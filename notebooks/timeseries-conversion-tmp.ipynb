{
 "cells": [
  {
   "cell_type": "markdown",
   "metadata": {},
   "source": [
    "# OpenSCM Timeseries\n",
    "\n",
    "Like in everyday usage, a timeseries in OpenSCM is a series of data points associated with specific points in time i.e. discrete data. \n",
    "\n",
    "In this notebook, we call the values used to initialise the timeseries the 'source data' and the times with which they are associated the 'source times'.\n",
    "\n",
    "To estimate the value of the variable under consideration at points in time other than the source points (call these points the 'target times'), i.e. to interpolate or extrapolate, we always take the following steps:\n",
    "\n",
    "1. start with the data which was originally used to set the timeseries\n",
    "1. convert the discrete data to continuous data using an interpolation/extrapolation technique\n",
    "    - e.g. linear interpolation, cubic spline, moving average\n",
    "1. use the continuous data to determine the values at the target times aka the 'target values'\n",
    "\n",
    "There is one additional complication in this process. It is the different conventions that are used with timeseries. For example, sometimes the data value is the value only at the exact point in time for which it is supplied (we call this 'point' data) while other times the data value represents the average of the underlying continuous data set over a given time period (we call this 'average' data). These conventions affect how the conversion between continuous and discrete data is done and hence are vital to document and understand.\n",
    "\n",
    "*Note:* In order to recover the original data from the target data, you need to know which assumptions have been made in the interpolation process and what convention is being used.\n",
    "\n",
    "In this notebook we go through the different interpolation and extrapolation options available to OpenSCM users as well as the different conventions OpenSCM understands. If your particular use case is not here, please raise an issue at [https://github.com/openclimatedata/openscm/issues]()."
   ]
  },
  {
   "cell_type": "code",
   "execution_count": 0,
   "metadata": {},
   "outputs": [
    {
     "data": {
      "application/javascript": [
       "IPython.OutputArea.prototype._should_scroll = function(lines) { return false; }"
      ],
      "text/plain": [
       "<IPython.core.display.Javascript object>"
      ]
     },
     "metadata": {},
     "output_type": "display_data"
    }
   ],
   "source": [
    "import datetime as dt\n",
    "\n",
    "from openscm.scmdataframe import ScmDataFrame\n",
    "from openscm.utils import convert_datetime_to_openscm_time, convert_openscm_time_to_datetime\n",
    "\n",
    "\n",
    "\n",
    "from itertools import count\n",
    "from copy import copy\n",
    "import re\n",
    "import traceback\n",
    "\n",
    "import numpy as np\n",
    "import scipy.interpolate as interpolate\n",
    "import scipy.integrate as integrate\n",
    "\n",
    "\n",
    "\n",
    "\n",
    "from openscm.errors import InsufficientDataError\n",
    "from openscm.core import ParameterSet\n",
    "from openscm.parameters import ParameterType\n",
    "from openscm.timeseries_converter import (\n",
    "    _calc_interval_averages,\n",
    "    create_time_points,\n",
    "    InterpolationType,\n",
    "    ExtrapolationType,\n",
    "    TimeseriesConverter,\n",
    ")"
   ]
  },
  {
   "cell_type": "code",
   "execution_count": 0,
   "metadata": {},
   "outputs": [],
   "source": [
    "from matplotlib import pyplot as plt\n",
    "from pandas.plotting import register_matplotlib_converters\n",
    "register_matplotlib_converters()"
   ]
  },
  {
   "cell_type": "code",
   "execution_count": 0,
   "metadata": {},
   "outputs": [],
   "source": [
    "COLOUR_1 = \"lime\"\n",
    "COLOUR_2 = \"midnightblue\"\n",
    "COLOUR_3 = \"firebrick\"\n",
    "COLOUR_4 = \"deeppink\"\n",
    "\n",
    "MARKER_1 = \"o\"\n",
    "MARKER_2 = \"x\"\n",
    "MARKER_3 = \"+\"\n",
    "MARKER_4 = \"^\""
   ]
  },
  {
   "cell_type": "markdown",
   "metadata": {},
   "source": [
    "## Holding data"
   ]
  },
  {
   "cell_type": "markdown",
   "metadata": {},
   "source": [
    "OpenSCM's high-level data structure is the `ScmDataFrame`. It requires certain metadata to always be included hence we use 'example' throughout this notebook. For more information on this class, see the 'scmdataframe' notebook or the docs.\n",
    "\n",
    "The `ScmDataFrame` stores information about whether the timeseries is a 'point' (each data point ) or 'average' (each data point  timeseries in a column called `parameter_type`. If this column is missing, `ScmDataFrame` will guess what kind of timeseries it is based off the variable name and the unit (we show an example of this alter). \n",
    "\n",
    "As a reminder, each data value in a 'point' timeseries represents the value of the quantity at the given timepoint only while each data value in an 'average' timeseries represents the average value of the quantity over the period between its timepoint and the next one. The distinction and its implications will become clearer throughout the course of the notebook."
   ]
  },
  {
   "cell_type": "markdown",
   "metadata": {},
   "source": [
    "---\n",
    "## Example 1: Point data without extrapolation\n",
    "\n",
    "The simplest and most familiar case is handling point data i.e. data which represents the value of a quantity at an exact point in time."
   ]
  },
  {
   "cell_type": "markdown",
   "metadata": {},
   "source": [
    "### Source data"
   ]
  },
  {
   "cell_type": "markdown",
   "metadata": {},
   "source": [
    "To start with, we set our source data."
   ]
  },
  {
   "cell_type": "code",
   "execution_count": 0,
   "metadata": {},
   "outputs": [
    {
     "data": {
      "image/png": "[encoded data removed]",
      "text/plain": [
       "<Figure size 432x288 with 1 Axes>"
      ]
     },
     "metadata": {
      "needs_background": "light"
     },
     "output_type": "display_data"
    }
   ],
   "source": [
    "source_values = np.array([1, 5, 3, 5, 7, 3, 2, 9])\n",
    "source_times = [\n",
    "    dt.datetime(y, 1, 1) \n",
    "    for y in [1500, 1510, 1515, 1520, 1523, 1528, 1530, 1550]\n",
    "]\n",
    "\n",
    "ax = plt.figure().add_subplot(111)\n",
    "ax.scatter(\n",
    "    source_times,\n",
    "    source_values,\n",
    "    marker=MARKER_1,\n",
    "    color=COLOUR_1,\n",
    "    label=\"source data\",\n",
    ")\n",
    "ax.legend(frameon=False);"
   ]
  },
  {
   "cell_type": "markdown",
   "metadata": {},
   "source": [
    "### Target data\n",
    "\n",
    "Next we set our target times."
   ]
  },
  {
   "cell_type": "code",
   "execution_count": 0,
   "metadata": {},
   "outputs": [],
   "source": [
    "target_times = [\n",
    "    dt.datetime(y, 1, 1) \n",
    "    for y in [1505, 1510, 1520, 1530, 1540, 1545, 1550]\n",
    "]"
   ]
  },
  {
   "cell_type": "markdown",
   "metadata": {},
   "source": [
    "### Conversion\n",
    "\n",
    "Below, we show what happens under the hood in OpenSCM."
   ]
  },
  {
   "cell_type": "markdown",
   "metadata": {},
   "source": [
    "To convert from discrete to continuous data, we interpolate the data to a continuous function using scipy's interpolate module. To do this, we must firstly convert all the datetimes to seconds.\n",
    "\n",
    "*Note:* At the moment, we only offer linear interpolation. In future we intend to add a cubic interpolation option."
   ]
  },
  {
   "cell_type": "code",
   "execution_count": 0,
   "metadata": {},
   "outputs": [
    {
     "data": {
      "image/png": "[encoded data removed]",
      "text/plain": [
       "<Figure size 432x288 with 1 Axes>"
      ]
     },
     "metadata": {
      "needs_background": "light"
     },
     "output_type": "display_data"
    }
   ],
   "source": [
    "ax = plt.figure().add_subplot(111)\n",
    "ax.scatter(\n",
    "    source_times,\n",
    "    source_values,\n",
    "    marker=MARKER_1,\n",
    "    color=COLOUR_1,\n",
    "    label=\"source values\",\n",
    ")\n",
    "\n",
    "source_times_int = [convert_datetime_to_openscm_time(t) for t in source_times]\n",
    "fine_times = np.linspace(source_times_int[0], source_times_int[-1], 300)\n",
    "interp = interpolate.interp1d(source_times_int, source_values)\n",
    "ax.plot(\n",
    "    [convert_openscm_time_to_datetime(t) for t in fine_times],\n",
    "    interp(fine_times),\n",
    "    label=\"continuous (linear) interpolation\",\n",
    ")\n",
    "\n",
    "ax.legend(frameon=False);"
   ]
  },
  {
   "cell_type": "markdown",
   "metadata": {},
   "source": [
    "In a second step, we calculate the target values by determining the value of the interpolated function at the target times. "
   ]
  },
  {
   "cell_type": "code",
   "execution_count": 0,
   "metadata": {},
   "outputs": [
    {
     "data": {
      "image/png": "[encoded data removed]",
      "text/plain": [
       "<Figure size 432x288 with 1 Axes>"
      ]
     },
     "metadata": {
      "needs_background": "light"
     },
     "output_type": "display_data"
    }
   ],
   "source": [
    "ax = plt.figure().add_subplot(111)\n",
    "ax.scatter(\n",
    "    source_times,\n",
    "    source_values,\n",
    "    marker=MARKER_1,\n",
    "    color=COLOUR_1,\n",
    "    label=\"source values\",\n",
    ")\n",
    "\n",
    "ax.plot(\n",
    "    [convert_openscm_time_to_datetime(t) for t in fine_times],\n",
    "    interp(fine_times),\n",
    "    label=\"continuous (linear) interpolation\",\n",
    ")\n",
    "\n",
    "\n",
    "ax.scatter(\n",
    "    target_times,\n",
    "    interp([convert_datetime_to_openscm_time(t) for t in target_times]),\n",
    "    color=COLOUR_3,\n",
    "    marker=MARKER_3,\n",
    "    label=\"target values (this notebook)\",\n",
    "    s=200,\n",
    ")\n",
    "\n",
    "for x in target_times[:-1]:\n",
    "    ax.axvline(x=x, color=COLOUR_3, alpha=0.3, ls=\"--\")\n",
    "    \n",
    "ax.legend(frameon=False);"
   ]
  },
  {
   "cell_type": "markdown",
   "metadata": {},
   "source": [
    "The simplest way to do such interpolations with OpenSCM is with the `ScmDataFrame`."
   ]
  },
  {
   "cell_type": "code",
   "execution_count": 0,
   "metadata": {},
   "outputs": [
    {
     "data": {
      "text/html": [
       "<div>\n",
       "<style scoped>\n",
       "    .dataframe tbody tr th:only-of-type {\n",
       "        vertical-align: middle;\n",
       "    }\n",
       "\n",
       "    .dataframe tbody tr th {\n",
       "        vertical-align: top;\n",
       "    }\n",
       "\n",
       "    .dataframe thead th {\n",
       "        text-align: right;\n",
       "    }\n",
       "</style>\n",
       "<table border=\"1\" class=\"dataframe\">\n",
       "  <thead>\n",
       "    <tr style=\"text-align: right;\">\n",
       "      <th></th>\n",
       "      <th></th>\n",
       "      <th></th>\n",
       "      <th></th>\n",
       "      <th></th>\n",
       "      <th>time</th>\n",
       "      <th>1500-01-01 00:00:00</th>\n",
       "      <th>1510-01-01 00:00:00</th>\n",
       "      <th>1515-01-01 00:00:00</th>\n",
       "      <th>1520-01-01 00:00:00</th>\n",
       "      <th>1523-01-01 00:00:00</th>\n",
       "      <th>1528-01-01 00:00:00</th>\n",
       "      <th>1530-01-01 00:00:00</th>\n",
       "      <th>1550-01-01 00:00:00</th>\n",
       "    </tr>\n",
       "    <tr>\n",
       "      <th>model</th>\n",
       "      <th>scenario</th>\n",
       "      <th>region</th>\n",
       "      <th>variable</th>\n",
       "      <th>unit</th>\n",
       "      <th>parameter_type</th>\n",
       "      <th></th>\n",
       "      <th></th>\n",
       "      <th></th>\n",
       "      <th></th>\n",
       "      <th></th>\n",
       "      <th></th>\n",
       "      <th></th>\n",
       "      <th></th>\n",
       "    </tr>\n",
       "  </thead>\n",
       "  <tbody>\n",
       "    <tr>\n",
       "      <th>example</th>\n",
       "      <th>example</th>\n",
       "      <th>World</th>\n",
       "      <th>Atmospheric Concentrations|HFC32</th>\n",
       "      <th>ppt</th>\n",
       "      <th>point</th>\n",
       "      <td>1.0</td>\n",
       "      <td>5.0</td>\n",
       "      <td>3.0</td>\n",
       "      <td>5.0</td>\n",
       "      <td>7.0</td>\n",
       "      <td>3.0</td>\n",
       "      <td>2.0</td>\n",
       "      <td>9.0</td>\n",
       "    </tr>\n",
       "  </tbody>\n",
       "</table>\n",
       "</div>"
      ],
      "text/plain": [
       "time                                                                          1500-01-01 00:00:00  \\\n",
       "model   scenario region variable                         unit parameter_type                        \n",
       "example example  World  Atmospheric Concentrations|HFC32 ppt  point                           1.0   \n",
       "\n",
       "time                                                                          1510-01-01 00:00:00  \\\n",
       "model   scenario region variable                         unit parameter_type                        \n",
       "example example  World  Atmospheric Concentrations|HFC32 ppt  point                           5.0   \n",
       "\n",
       "time                                                                          1515-01-01 00:00:00  \\\n",
       "model   scenario region variable                         unit parameter_type                        \n",
       "example example  World  Atmospheric Concentrations|HFC32 ppt  point                           3.0   \n",
       "\n",
       "time                                                                          1520-01-01 00:00:00  \\\n",
       "model   scenario region variable                         unit parameter_type                        \n",
       "example example  World  Atmospheric Concentrations|HFC32 ppt  point                           5.0   \n",
       "\n",
       "time                                                                          1523-01-01 00:00:00  \\\n",
       "model   scenario region variable                         unit parameter_type                        \n",
       "example example  World  Atmospheric Concentrations|HFC32 ppt  point                           7.0   \n",
       "\n",
       "time                                                                          1528-01-01 00:00:00  \\\n",
       "model   scenario region variable                         unit parameter_type                        \n",
       "example example  World  Atmospheric Concentrations|HFC32 ppt  point                           3.0   \n",
       "\n",
       "time                                                                          1530-01-01 00:00:00  \\\n",
       "model   scenario region variable                         unit parameter_type                        \n",
       "example example  World  Atmospheric Concentrations|HFC32 ppt  point                           2.0   \n",
       "\n",
       "time                                                                          1550-01-01 00:00:00  \n",
       "model   scenario region variable                         unit parameter_type                       \n",
       "example example  World  Atmospheric Concentrations|HFC32 ppt  point                           9.0  "
      ]
     },
     "execution_count": 0,
     "metadata": {},
     "output_type": "execute_result"
    }
   ],
   "source": [
    "source_data = ScmDataFrame(\n",
    "    source_values,\n",
    "    index=source_times,\n",
    "    columns={\n",
    "        \"model\": \"example\",\n",
    "        \"scenario\": \"example\",\n",
    "        \"region\": \"World\",\n",
    "        \"variable\": \"Atmospheric Concentrations|HFC32\",\n",
    "        \"unit\": \"ppt\",\n",
    "        \"parameter_type\": \"point\",\n",
    "    }\n",
    ")\n",
    "source_data.timeseries()"
   ]
  },
  {
   "cell_type": "code",
   "execution_count": 0,
   "metadata": {},
   "outputs": [
    {
     "data": {
      "text/html": [
       "<div>\n",
       "<style scoped>\n",
       "    .dataframe tbody tr th:only-of-type {\n",
       "        vertical-align: middle;\n",
       "    }\n",
       "\n",
       "    .dataframe tbody tr th {\n",
       "        vertical-align: top;\n",
       "    }\n",
       "\n",
       "    .dataframe thead th {\n",
       "        text-align: right;\n",
       "    }\n",
       "</style>\n",
       "<table border=\"1\" class=\"dataframe\">\n",
       "  <thead>\n",
       "    <tr style=\"text-align: right;\">\n",
       "      <th></th>\n",
       "      <th></th>\n",
       "      <th></th>\n",
       "      <th></th>\n",
       "      <th></th>\n",
       "      <th>time</th>\n",
       "      <th>1505-01-01 00:00:00</th>\n",
       "      <th>1510-01-01 00:00:00</th>\n",
       "      <th>1520-01-01 00:00:00</th>\n",
       "      <th>1530-01-01 00:00:00</th>\n",
       "      <th>1540-01-01 00:00:00</th>\n",
       "      <th>1545-01-01 00:00:00</th>\n",
       "      <th>1550-01-01 00:00:00</th>\n",
       "    </tr>\n",
       "    <tr>\n",
       "      <th>model</th>\n",
       "      <th>scenario</th>\n",
       "      <th>region</th>\n",
       "      <th>variable</th>\n",
       "      <th>unit</th>\n",
       "      <th>parameter_type</th>\n",
       "      <th></th>\n",
       "      <th></th>\n",
       "      <th></th>\n",
       "      <th></th>\n",
       "      <th></th>\n",
       "      <th></th>\n",
       "      <th></th>\n",
       "    </tr>\n",
       "  </thead>\n",
       "  <tbody>\n",
       "    <tr>\n",
       "      <th>example</th>\n",
       "      <th>example</th>\n",
       "      <th>World</th>\n",
       "      <th>Atmospheric Concentrations|HFC32</th>\n",
       "      <th>ppt</th>\n",
       "      <th>point</th>\n",
       "      <td>3.0</td>\n",
       "      <td>5.0</td>\n",
       "      <td>5.0</td>\n",
       "      <td>2.0</td>\n",
       "      <td>5.499521</td>\n",
       "      <td>7.25024</td>\n",
       "      <td>9.0</td>\n",
       "    </tr>\n",
       "  </tbody>\n",
       "</table>\n",
       "</div>"
      ],
      "text/plain": [
       "time                                                                          1505-01-01 00:00:00  \\\n",
       "model   scenario region variable                         unit parameter_type                        \n",
       "example example  World  Atmospheric Concentrations|HFC32 ppt  point                           3.0   \n",
       "\n",
       "time                                                                          1510-01-01 00:00:00  \\\n",
       "model   scenario region variable                         unit parameter_type                        \n",
       "example example  World  Atmospheric Concentrations|HFC32 ppt  point                           5.0   \n",
       "\n",
       "time                                                                          1520-01-01 00:00:00  \\\n",
       "model   scenario region variable                         unit parameter_type                        \n",
       "example example  World  Atmospheric Concentrations|HFC32 ppt  point                           5.0   \n",
       "\n",
       "time                                                                          1530-01-01 00:00:00  \\\n",
       "model   scenario region variable                         unit parameter_type                        \n",
       "example example  World  Atmospheric Concentrations|HFC32 ppt  point                           2.0   \n",
       "\n",
       "time                                                                          1540-01-01 00:00:00  \\\n",
       "model   scenario region variable                         unit parameter_type                        \n",
       "example example  World  Atmospheric Concentrations|HFC32 ppt  point                      5.499521   \n",
       "\n",
       "time                                                                          1545-01-01 00:00:00  \\\n",
       "model   scenario region variable                         unit parameter_type                        \n",
       "example example  World  Atmospheric Concentrations|HFC32 ppt  point                       7.25024   \n",
       "\n",
       "time                                                                          1550-01-01 00:00:00  \n",
       "model   scenario region variable                         unit parameter_type                       \n",
       "example example  World  Atmospheric Concentrations|HFC32 ppt  point                           9.0  "
      ]
     },
     "execution_count": 0,
     "metadata": {},
     "output_type": "execute_result"
    }
   ],
   "source": [
    "target_data = source_data.interpolate(target_times)\n",
    "target_data.timeseries()"
   ]
  },
  {
   "cell_type": "markdown",
   "metadata": {},
   "source": [
    "We compare the output of OpenSCM and our minimal working example in the cell below."
   ]
  },
  {
   "cell_type": "code",
   "execution_count": 0,
   "metadata": {},
   "outputs": [
    {
     "data": {
      "image/png": "[encoded data removed]",
      "text/plain": [
       "<Figure size 432x288 with 1 Axes>"
      ]
     },
     "metadata": {
      "needs_background": "light"
     },
     "output_type": "display_data"
    }
   ],
   "source": [
    "ax = plt.figure().add_subplot(111)\n",
    "ax.scatter(\n",
    "    source_times,\n",
    "    source_values,\n",
    "    marker=MARKER_1,\n",
    "    color=COLOUR_1,\n",
    "    label=\"source values\",\n",
    ")\n",
    "\n",
    "ax.plot(\n",
    "    [convert_openscm_time_to_datetime(t) for t in fine_times],\n",
    "    interp(fine_times),\n",
    "    label=\"continuous (linear) interpolation\",\n",
    ")\n",
    "\n",
    "\n",
    "ax.scatter(\n",
    "    target_times,\n",
    "    interp([convert_datetime_to_openscm_time(t) for t in target_times]),\n",
    "    color=COLOUR_3,\n",
    "    marker=MARKER_3,\n",
    "    label=\"target values (this notebook)\",\n",
    "    s=200,\n",
    ")\n",
    "\n",
    "ax.scatter(\n",
    "    target_data.timeseries().columns,\n",
    "    target_data.timeseries().values,\n",
    "    marker=MARKER_2,\n",
    "    color=COLOUR_2,\n",
    "    alpha=0.7,\n",
    "    label=\"target (from OpenSCM)\",\n",
    "    s=150,\n",
    ")\n",
    "\n",
    "for x in target_times:\n",
    "    ax.axvline(x=x, color=COLOUR_3, alpha=0.3, ls=\"--\")\n",
    "    \n",
    "ax.legend(frameon=False);"
   ]
  },
  {
   "cell_type": "markdown",
   "metadata": {},
   "source": [
    "As we would hope, and can check below, our OpenSCM implementation produces the same results as the minimal example we have just been through."
   ]
  },
  {
   "cell_type": "code",
   "execution_count": 0,
   "metadata": {},
   "outputs": [],
   "source": [
    "np.testing.assert_allclose(\n",
    "    interp([convert_datetime_to_openscm_time(t) for t in target_times]),\n",
    "    target_data.timeseries().values.squeeze()\n",
    ")"
   ]
  },
  {
   "cell_type": "markdown",
   "metadata": {},
   "source": [
    "---\n",
    "## Example 2: Point data with extrapolation\n",
    "\n",
    "It is possible to automatically extrapolate the data using OpenSCM."
   ]
  },
  {
   "cell_type": "markdown",
   "metadata": {},
   "source": [
    "### Source data"
   ]
  },
  {
   "cell_type": "code",
   "execution_count": 0,
   "metadata": {},
   "outputs": [
    {
     "data": {
      "image/png": "[encoded data removed]",
      "text/plain": [
       "<Figure size 432x288 with 1 Axes>"
      ]
     },
     "metadata": {
      "needs_background": "light"
     },
     "output_type": "display_data"
    }
   ],
   "source": [
    "source_values = np.array([1, 5, 3, 5, 7, 3, 2, 9])\n",
    "source_times = [\n",
    "    dt.datetime(y, 1, 1) \n",
    "    for y in [1500, 1510, 1515, 1520, 1523, 1528, 1530, 1550]\n",
    "]\n",
    "\n",
    "ax = plt.figure().add_subplot(111)\n",
    "ax.scatter(\n",
    "    source_times,\n",
    "    source_values,\n",
    "    marker=MARKER_1,\n",
    "    color=COLOUR_1,\n",
    "    label=\"source data\",\n",
    ")\n",
    "ax.legend(frameon=False);"
   ]
  },
  {
   "cell_type": "code",
   "execution_count": 0,
   "metadata": {},
   "outputs": [
    {
     "data": {
      "text/html": [
       "<div>\n",
       "<style scoped>\n",
       "    .dataframe tbody tr th:only-of-type {\n",
       "        vertical-align: middle;\n",
       "    }\n",
       "\n",
       "    .dataframe tbody tr th {\n",
       "        vertical-align: top;\n",
       "    }\n",
       "\n",
       "    .dataframe thead th {\n",
       "        text-align: right;\n",
       "    }\n",
       "</style>\n",
       "<table border=\"1\" class=\"dataframe\">\n",
       "  <thead>\n",
       "    <tr style=\"text-align: right;\">\n",
       "      <th></th>\n",
       "      <th></th>\n",
       "      <th></th>\n",
       "      <th></th>\n",
       "      <th></th>\n",
       "      <th>time</th>\n",
       "      <th>1500-01-01 00:00:00</th>\n",
       "      <th>1510-01-01 00:00:00</th>\n",
       "      <th>1515-01-01 00:00:00</th>\n",
       "      <th>1520-01-01 00:00:00</th>\n",
       "      <th>1523-01-01 00:00:00</th>\n",
       "      <th>1528-01-01 00:00:00</th>\n",
       "      <th>1530-01-01 00:00:00</th>\n",
       "      <th>1550-01-01 00:00:00</th>\n",
       "    </tr>\n",
       "    <tr>\n",
       "      <th>model</th>\n",
       "      <th>scenario</th>\n",
       "      <th>region</th>\n",
       "      <th>variable</th>\n",
       "      <th>unit</th>\n",
       "      <th>parameter_type</th>\n",
       "      <th></th>\n",
       "      <th></th>\n",
       "      <th></th>\n",
       "      <th></th>\n",
       "      <th></th>\n",
       "      <th></th>\n",
       "      <th></th>\n",
       "      <th></th>\n",
       "    </tr>\n",
       "  </thead>\n",
       "  <tbody>\n",
       "    <tr>\n",
       "      <th>example</th>\n",
       "      <th>example</th>\n",
       "      <th>World</th>\n",
       "      <th>Atmospheric Concentrations|HFC32</th>\n",
       "      <th>ppt</th>\n",
       "      <th>point</th>\n",
       "      <td>1.0</td>\n",
       "      <td>5.0</td>\n",
       "      <td>3.0</td>\n",
       "      <td>5.0</td>\n",
       "      <td>7.0</td>\n",
       "      <td>3.0</td>\n",
       "      <td>2.0</td>\n",
       "      <td>9.0</td>\n",
       "    </tr>\n",
       "  </tbody>\n",
       "</table>\n",
       "</div>"
      ],
      "text/plain": [
       "time                                                                          1500-01-01 00:00:00  \\\n",
       "model   scenario region variable                         unit parameter_type                        \n",
       "example example  World  Atmospheric Concentrations|HFC32 ppt  point                           1.0   \n",
       "\n",
       "time                                                                          1510-01-01 00:00:00  \\\n",
       "model   scenario region variable                         unit parameter_type                        \n",
       "example example  World  Atmospheric Concentrations|HFC32 ppt  point                           5.0   \n",
       "\n",
       "time                                                                          1515-01-01 00:00:00  \\\n",
       "model   scenario region variable                         unit parameter_type                        \n",
       "example example  World  Atmospheric Concentrations|HFC32 ppt  point                           3.0   \n",
       "\n",
       "time                                                                          1520-01-01 00:00:00  \\\n",
       "model   scenario region variable                         unit parameter_type                        \n",
       "example example  World  Atmospheric Concentrations|HFC32 ppt  point                           5.0   \n",
       "\n",
       "time                                                                          1523-01-01 00:00:00  \\\n",
       "model   scenario region variable                         unit parameter_type                        \n",
       "example example  World  Atmospheric Concentrations|HFC32 ppt  point                           7.0   \n",
       "\n",
       "time                                                                          1528-01-01 00:00:00  \\\n",
       "model   scenario region variable                         unit parameter_type                        \n",
       "example example  World  Atmospheric Concentrations|HFC32 ppt  point                           3.0   \n",
       "\n",
       "time                                                                          1530-01-01 00:00:00  \\\n",
       "model   scenario region variable                         unit parameter_type                        \n",
       "example example  World  Atmospheric Concentrations|HFC32 ppt  point                           2.0   \n",
       "\n",
       "time                                                                          1550-01-01 00:00:00  \n",
       "model   scenario region variable                         unit parameter_type                       \n",
       "example example  World  Atmospheric Concentrations|HFC32 ppt  point                           9.0  "
      ]
     },
     "execution_count": 0,
     "metadata": {},
     "output_type": "execute_result"
    }
   ],
   "source": [
    "source_data = ScmDataFrame(\n",
    "    source_values,\n",
    "    index=source_times,\n",
    "    columns={\n",
    "        \"model\": \"example\",\n",
    "        \"scenario\": \"example\",\n",
    "        \"region\": \"World\",\n",
    "        \"variable\": \"Atmospheric Concentrations|HFC32\",\n",
    "        \"unit\": \"ppt\",\n",
    "        \"parameter_type\": \"point\",\n",
    "    }\n",
    ")\n",
    "source_data.timeseries()"
   ]
  },
  {
   "cell_type": "markdown",
   "metadata": {},
   "source": [
    "### Target data and conversion\n",
    "\n",
    "Using different extrapolation types, we can get different results. This process is sufficiently trivial that we can illustrate how it works for a variety of cases, both using our underlying tools and using OpenSCM, in the cell below."
   ]
  },
  {
   "cell_type": "code",
   "execution_count": 0,
   "metadata": {},
   "outputs": [],
   "source": [
    "target_times = [\n",
    "    dt.datetime(y, 1, 1) \n",
    "    for y in [1495, 1505, 1510, 1520, 1530, 1540, 1545, 1550, 1560]\n",
    "]"
   ]
  },
  {
   "cell_type": "code",
   "execution_count": 0,
   "metadata": {},
   "outputs": [
    {
     "data": {
      "image/png": "[encoded data removed]",
      "text/plain": [
       "<Figure size 432x288 with 1 Axes>"
      ]
     },
     "metadata": {
      "needs_background": "light"
     },
     "output_type": "display_data"
    },
    {
     "data": {
      "image/png": "[encoded data removed]",
      "text/plain": [
       "<Figure size 432x288 with 1 Axes>"
      ]
     },
     "metadata": {
      "needs_background": "light"
     },
     "output_type": "display_data"
    }
   ],
   "source": [
    "examples = [\n",
    "    (\n",
    "        \"Linear extrapolation\",  # name\n",
    "        ExtrapolationType.LINEAR,  # extrapolation type, comes from OpenSCM.timeseries_converter\n",
    "        {\"fill_value\": \"extrapolate\"}  # arguments passed to numpy to do this type of extrapolation\n",
    "    ),\n",
    "    (\n",
    "        \"Constant extrapolation\", \n",
    "        ExtrapolationType.CONSTANT, \n",
    "        {\"fill_value\": (source_values[0], source_values[-1]), \"bounds_error\": False}\n",
    "    ),\n",
    "]\n",
    "for (title, extrap_type, numpy_kwargs) in examples:\n",
    "    target_data = source_data.interpolate(\n",
    "        target_times,\n",
    "        interpolation_type=InterpolationType.LINEAR,\n",
    "        extrapolation_type=extrap_type,\n",
    "    )\n",
    "\n",
    "    ax = plt.figure().add_subplot(111)\n",
    "    ax.scatter(\n",
    "        source_times,\n",
    "        source_values,\n",
    "        marker=MARKER_1,\n",
    "        color=COLOUR_1,\n",
    "        label=\"source\",\n",
    "    )\n",
    "    \n",
    "    source_times_int = [convert_datetime_to_openscm_time(t) for t in source_times]\n",
    "    interp = interpolate.interp1d(\n",
    "        source_times_int,\n",
    "        source_values,\n",
    "        **numpy_kwargs\n",
    "    )\n",
    "    \n",
    "    target_times_int = [convert_datetime_to_openscm_time(t) for t in target_times]\n",
    "    fine_times = np.linspace(target_times_int[0], target_times_int[-1], 300)\n",
    "    ax.plot(\n",
    "        [convert_openscm_time_to_datetime(t) for t in fine_times],\n",
    "        interp(fine_times),\n",
    "        label=\"continuous interpolation\",\n",
    "    )\n",
    "    ax.scatter(\n",
    "        target_times,\n",
    "        interp(target_times_int),\n",
    "        color=COLOUR_3,\n",
    "        marker=MARKER_3,\n",
    "        label=\"target (this notebook)\",\n",
    "        s=200,\n",
    "    )\n",
    "    ax.scatter(\n",
    "        target_data.timeseries().columns,\n",
    "        target_data.timeseries().values,\n",
    "        marker=MARKER_2,\n",
    "        color=COLOUR_2,\n",
    "        alpha=0.7,\n",
    "        label=\"target (from OpenSCM)\",\n",
    "        s=150,\n",
    "    )\n",
    "    ax.legend(frameon=False)\n",
    "    for x in target_times:\n",
    "        ax.axvline(x=x, color=COLOUR_3, alpha=0.3, ls=\"--\")\n",
    "        \n",
    "    ax.set_title(title);"
   ]
  },
  {
   "cell_type": "markdown",
   "metadata": {},
   "source": [
    "If you try to extrapolate with the extrapolation type set to `ExtrapolationType.NONE` then you will receive an `InsufficientDataError`."
   ]
  },
  {
   "cell_type": "code",
   "execution_count": 0,
   "metadata": {},
   "outputs": [
    {
     "name": "stderr",
     "output_type": "stream",
     "text": [
      "Traceback (most recent call last):\n",
      "openscm.errors.InsufficientDataError: ('Target time points are outside the source time points, use an extrapolation type other than None', 'occurred at index 0')\n"
     ]
    }
   ],
   "source": [
    "try:\n",
    "    source_data.interpolate(\n",
    "        target_times,\n",
    "        interpolation_type=InterpolationType.LINEAR,\n",
    "        extrapolation_type=ExtrapolationType.NONE,\n",
    "    )\n",
    "except InsufficientDataError as e:\n",
    "    traceback.print_exc(limit=0, chain=False)"
   ]
  },
  {
   "cell_type": "markdown",
   "metadata": {},
   "source": [
    "---\n",
    "## Example 3: Period average data with linear interpolation\n",
    "\n",
    "The most complex case OpenSCM can handle is linear interpolation of data where the convention is that the source values represent the average of the underlying timeseries over a time period. This time period extends from the time time at which the value is provided, the 'data time', up until the next time in the timeseries. A common example for such a convention is emissions data, where each time point represents the average emissions flux for that time period e.g. 2100 emissions of 3 GtC / yr means that the average rate of emissions for 2100 was 3 GtC / yr.\n",
    "\n",
    "<div class=\"alert alert-warning\">\n",
    "  <strong>Warning!</strong> Emissions data is ocassionally reported without the rate e.g. 2100 emissions were 3 GtC. Before passing emissions data into OpenSCM it should have the units converted to rates (of course, cumulative emissions data should not be reported as rates and so perhaps the only fix required is changing the variable name from `Emissions` to `Cumulative Emissions`).\n",
    "</div>"
   ]
  },
  {
   "cell_type": "markdown",
   "metadata": {},
   "source": [
    "### Source data"
   ]
  },
  {
   "cell_type": "code",
   "execution_count": 0,
   "metadata": {},
   "outputs": [
    {
     "data": {
      "image/png": "[encoded data removed]",
      "text/plain": [
       "<Figure size 432x288 with 1 Axes>"
      ]
     },
     "metadata": {
      "needs_background": "light"
     },
     "output_type": "display_data"
    }
   ],
   "source": [
    "source_values = np.array([1, 5, 3, 5, 7, 3, 2, 9])\n",
    "source_times = [\n",
    "    dt.datetime(y, 1, 1) \n",
    "    for y in [1500, 1510, 1520, 1530, 1540, 1550, 1560, 1570]\n",
    "]\n",
    "\n",
    "ax = plt.figure().add_subplot(111)\n",
    "ax.scatter(\n",
    "    source_times,\n",
    "    source_values,\n",
    "    marker=MARKER_1,\n",
    "    color=COLOUR_1,\n",
    "    label=\"source data\",\n",
    ")\n",
    "ax.legend(frameon=False);"
   ]
  },
  {
   "cell_type": "markdown",
   "metadata": {},
   "source": [
    "Whilst these are the points in our data, when we consider average data, we are actually, in some sense, assuming that the continuous representation of the data would look like a series of steps i.e. like the following plot."
   ]
  },
  {
   "cell_type": "code",
   "execution_count": 0,
   "metadata": {},
   "outputs": [],
   "source": [
    "def plot_timeframe(ax, times, values, **kwargs):\n",
    "    last_bound = times[-1] + (times[-1] - times[-2])\n",
    "    times_extended = np.concatenate(([times, [last_bound]]))\n",
    "    values_extended = np.concatenate(([values[0]], values))\n",
    "    ax.step(times_extended, values_extended, **kwargs)"
   ]
  },
  {
   "cell_type": "code",
   "execution_count": 0,
   "metadata": {},
   "outputs": [
    {
     "data": {
      "image/png": "[encoded data removed]",
      "text/plain": [
       "<Figure size 432x288 with 1 Axes>"
      ]
     },
     "metadata": {
      "needs_background": "light"
     },
     "output_type": "display_data"
    }
   ],
   "source": [
    "ax = plt.figure().add_subplot(111)\n",
    "plot_timeframe(\n",
    "    ax, \n",
    "    source_times,\n",
    "    source_values,\n",
    "    label=\"source\",\n",
    "    marker=MARKER_1,\n",
    "    color=COLOUR_1,\n",
    ")\n",
    "ax.legend(frameon=False)\n",
    "ax.set_title(\"Implicit assumptions for average data\");"
   ]
  },
  {
   "cell_type": "markdown",
   "metadata": {},
   "source": [
    "### Target data"
   ]
  },
  {
   "cell_type": "code",
   "execution_count": 0,
   "metadata": {},
   "outputs": [],
   "source": [
    "target_times = [\n",
    "    dt.datetime(y, 1, 1) \n",
    "    for y in [1497, 1504, 1511, 1518, 1525, 1532, 1539, 1546, 1553, 1560, 1567, 1574]\n",
    "]"
   ]
  },
  {
   "cell_type": "markdown",
   "metadata": {},
   "source": [
    "### Conversion\n",
    "\n",
    "To convert from discrete to continuous data, we interpolate the data such that their average (i.e. integral over the period divided by the period length) equals the original source data. This ensures that we preserve the total quantity of these variables, which are often flux variables that are subject to conservation laws (e.g. emissions or energy flows).\n",
    "\n",
    "To do the conversion, we use three points per period. Firstly, at each period edge the continuous value is assumed to equal the average of the discrete values for the two adjacent periods. Secondly, at the period mid point of each target period, the continuous value is adjusted such that the period average equals the source data value for that period (hence preserving the integral). Finally, for the first and the last period the mid points are assumed to be at the period average and the outer edges are adjusted accordingly.\n",
    "\n",
    "In order to have well-bounded periods, we must make an assumption about how long the last time period is. Without it, our data points aren't properly bounded and so the average doesn't make any sense. Unfortunately, this assumption is rarely documented and so we must make our own best guess. In OpenSCM, we always make the assumption that the last period has the same length as the period before it. \n",
    "\n",
    "We provide the calculation and code to do this below. It may be best to skip to the overview plot before looking at the steps in detail."
   ]
  },
  {
   "cell_type": "markdown",
   "metadata": {},
   "source": [
    "The code which does the continuous calculation can be found in `openscm.timeseries_converter.TimeseriesConverter._calc_continous_representation`. We do not repeat the code here, but merely show its results."
   ]
  },
  {
   "cell_type": "code",
   "execution_count": 0,
   "metadata": {},
   "outputs": [],
   "source": [
    "source_times_int = np.array([convert_datetime_to_openscm_time(t) for t in source_times])\n",
    "assumed_source_time_bounds = np.concatenate([\n",
    "    source_times_int,\n",
    "    [2*source_times_int[-1] - source_times_int[-2]]\n",
    "])\n",
    "\n",
    "target_times_int = np.array([convert_datetime_to_openscm_time(t) for t in target_times])\n",
    "assumed_target_time_bounds = np.concatenate([\n",
    "    target_times_int,\n",
    "    [2*target_times_int[-1] - target_times_int[-2]]\n",
    "])\n",
    "\n",
    "converter = TimeseriesConverter(\n",
    "    assumed_source_time_bounds,\n",
    "    assumed_target_time_bounds,\n",
    "    timeseries_type=ParameterType.AVERAGE_TIMESERIES,\n",
    "    interpolation_type=InterpolationType.LINEAR,\n",
    "    extrapolation_type=ExtrapolationType.LINEAR,\n",
    ")\n",
    "\n",
    "continuous = converter._calc_continuous_representation(\n",
    "    assumed_source_time_bounds,\n",
    "    source_values,\n",
    ")"
   ]
  },
  {
   "cell_type": "markdown",
   "metadata": {},
   "source": [
    "The plot below illustrates the net result."
   ]
  },
  {
   "cell_type": "code",
   "execution_count": 0,
   "metadata": {},
   "outputs": [
    {
     "data": {
      "image/png": "[encoded data removed]",
      "text/plain": [
       "<Figure size 1152x648 with 1 Axes>"
      ]
     },
     "metadata": {
      "needs_background": "light"
     },
     "output_type": "display_data"
    }
   ],
   "source": [
    "ax = plt.figure(figsize=(16, 9)).add_subplot(111)\n",
    "plot_timeframe(\n",
    "    ax, \n",
    "    source_times,\n",
    "    source_values,\n",
    "    label=\"source\",\n",
    "    marker=MARKER_1,\n",
    "    color=COLOUR_1,\n",
    ")\n",
    "plt_times = np.linspace(\n",
    "    assumed_source_time_bounds[0],\n",
    "    assumed_source_time_bounds[-1],\n",
    "    500\n",
    ")\n",
    "ax.plot(\n",
    "    [convert_openscm_time_to_datetime(t) for t in plt_times], \n",
    "    continuous(plt_times), \n",
    "    label=\"continuous representation\\n(integral preserving linear interpolation)\",\n",
    "    marker=None,\n",
    "    color=COLOUR_2,\n",
    ")\n",
    "ax.legend(frameon=False)\n",
    "\n",
    "plt.annotate(\n",
    "    \"edge points are averages of adjacent periods\", \n",
    "    (source_times[3], (source_values[2] + source_values[3]) / 2),\n",
    "    (-175, 120),\n",
    "    textcoords='offset points',\n",
    "    arrowprops=dict(facecolor='black'),\n",
    ")\n",
    "\n",
    "mid_point_time = source_times[4] + (source_times[5] - source_times[4]) / 2\n",
    "plt.annotate(\n",
    "    \"mid points are adjusted to preserve integral\", \n",
    "    (mid_point_time, continuous(convert_datetime_to_openscm_time(mid_point_time))),\n",
    "    (-140, 30),\n",
    "    textcoords='offset points',\n",
    "    arrowprops=dict(facecolor='black'),\n",
    ")\n",
    "\n",
    "plt.annotate(\n",
    "    \"final bound set so the final period\\nis same length as the previous period\", \n",
    "    (convert_openscm_time_to_datetime(plt_times[-1]), source_values[-1]),\n",
    "    (-250, 50),\n",
    "    textcoords='offset points',\n",
    "    arrowprops=dict(facecolor='black'),\n",
    ")\n",
    "\n",
    "end_point_time = source_times[0] + (source_times[1] - source_times[0]) / 2\n",
    "plt.annotate(\n",
    "    \"end period mid-point matches source data\", \n",
    "    (end_point_time, continuous(convert_datetime_to_openscm_time(end_point_time))),\n",
    "    (75, 10),\n",
    "    textcoords='offset points',\n",
    "    arrowprops=dict(facecolor='black'),\n",
    ")\n",
    "\n",
    "plt.annotate(\n",
    "    \"end points adjusted to preserve integral\", \n",
    "    (convert_openscm_time_to_datetime(plt_times[0]), source_values[0]),\n",
    "    (50, -75),\n",
    "    textcoords='offset points',\n",
    "    arrowprops=dict(facecolor='black'),\n",
    ");"
   ]
  },
  {
   "cell_type": "markdown",
   "metadata": {},
   "source": [
    "In a second step, we calculate the target values by determining the interval averages for each target time period. (In practice, we integrate the continuous function and then divide by the time period length: code can be found in `openscm.timeseries_converter._calc_interval_averages`)."
   ]
  },
  {
   "cell_type": "code",
   "execution_count": 0,
   "metadata": {},
   "outputs": [],
   "source": [
    "interval_times = assumed_target_time_bounds\n",
    "interval_averages = _calc_interval_averages(\n",
    "    continuous,\n",
    "    interval_times\n",
    ")"
   ]
  },
  {
   "cell_type": "markdown",
   "metadata": {},
   "source": [
    "Under the hood, OpenSCM does the integration in the following way:"
   ]
  },
  {
   "cell_type": "code",
   "execution_count": 0,
   "metadata": {},
   "outputs": [],
   "source": [
    "integrals = [np.nan] * len(interval_times[:-1])\n",
    "for i, l in enumerate(interval_times[:-1]):\n",
    "    u = interval_times[i + 1]\n",
    "    y, _ = integrate.quad(continuous, l, u)\n",
    "    integrals[i] = y"
   ]
  },
  {
   "cell_type": "markdown",
   "metadata": {},
   "source": [
    "The plot below shows the final result from source values, to continous represenation to target values. On the second plot, we show how the integral of the continuous representation evolves over time."
   ]
  },
  {
   "cell_type": "code",
   "execution_count": 0,
   "metadata": {},
   "outputs": [
    {
     "data": {
      "image/png": "[encoded data removed]",
      "text/plain": [
       "<Figure size 864x486 with 2 Axes>"
      ]
     },
     "metadata": {
      "needs_background": "light"
     },
     "output_type": "display_data"
    }
   ],
   "source": [
    "fig = plt.figure(figsize=(12, 6.75))\n",
    "ax = fig.add_subplot(211)\n",
    "plot_timeframe(\n",
    "    ax,\n",
    "    source_times,\n",
    "    source_values,\n",
    "    label=\"source\",\n",
    "    marker=MARKER_1,\n",
    "    color=COLOUR_1,\n",
    ")\n",
    "plt_times = np.linspace(\n",
    "    assumed_target_time_bounds[0],\n",
    "    assumed_target_time_bounds[-1],\n",
    "    500,\n",
    ")\n",
    "ax.plot(\n",
    "    [convert_openscm_time_to_datetime(t) for t in plt_times],\n",
    "    continuous(plt_times),\n",
    "    label=\"continuous representation\\n(integral preserving linear interpolation)\",\n",
    "    marker=None,\n",
    "    color=COLOUR_2,\n",
    ")\n",
    "ax.scatter(\n",
    "    target_times,\n",
    "    interval_averages,\n",
    "    color=COLOUR_3,\n",
    "    marker=MARKER_2,\n",
    "    label=\"target\",\n",
    ")\n",
    "for x in target_times:\n",
    "    ax.axvline(x=x, color=COLOUR_3, alpha=0.3, ls=\"--\")\n",
    "ax.axvline(x=x + (target_times[-1] - target_times[-2]), color=COLOUR_3, alpha=0.3, ls=\"--\")\n",
    "\n",
    "ax.legend();\n",
    "\n",
    "\n",
    "ax = fig.add_subplot(212, sharex=ax)\n",
    "ax.scatter(\n",
    "    target_times,\n",
    "    integrals,\n",
    "    label=\"integral of continuous representation\\n(for each time period)\",\n",
    ")\n",
    "for x in target_times:\n",
    "    ax.axvline(x=x, color=COLOUR_3, alpha=0.3, ls=\"--\")\n",
    "ax.axvline(x=x + (target_times[-1] - target_times[-2]), color=COLOUR_3, alpha=0.3, ls=\"--\")\n",
    "\n",
    "ax.legend();"
   ]
  },
  {
   "cell_type": "markdown",
   "metadata": {},
   "source": [
    "In the plot below, we show the result, without all the intermediate steps."
   ]
  },
  {
   "cell_type": "code",
   "execution_count": 0,
   "metadata": {},
   "outputs": [
    {
     "data": {
      "image/png": "[encoded data removed]",
      "text/plain": [
       "<Figure size 432x288 with 1 Axes>"
      ]
     },
     "metadata": {
      "needs_background": "light"
     },
     "output_type": "display_data"
    }
   ],
   "source": [
    "ax = plt.figure().add_subplot(111)\n",
    "ax.scatter(\n",
    "    source_times,\n",
    "    source_values,\n",
    "    marker=MARKER_1,\n",
    "    color=COLOUR_1,\n",
    "    label=\"source\",\n",
    ")\n",
    "ax.scatter(\n",
    "    target_times,\n",
    "    interval_averages,\n",
    "    color=COLOUR_3,\n",
    "    marker=MARKER_3,\n",
    "    label=\"target\",\n",
    ")\n",
    "ax.legend();"
   ]
  },
  {
   "cell_type": "markdown",
   "metadata": {},
   "source": [
    "### Using OpenSCM\n",
    "\n",
    "OpenSCM handles all this for us. By setting `parameter_type` to 'average', all of this logic is applied automatically."
   ]
  },
  {
   "cell_type": "code",
   "execution_count": 0,
   "metadata": {},
   "outputs": [
    {
     "data": {
      "text/html": [
       "<div>\n",
       "<style scoped>\n",
       "    .dataframe tbody tr th:only-of-type {\n",
       "        vertical-align: middle;\n",
       "    }\n",
       "\n",
       "    .dataframe tbody tr th {\n",
       "        vertical-align: top;\n",
       "    }\n",
       "\n",
       "    .dataframe thead th {\n",
       "        text-align: right;\n",
       "    }\n",
       "</style>\n",
       "<table border=\"1\" class=\"dataframe\">\n",
       "  <thead>\n",
       "    <tr style=\"text-align: right;\">\n",
       "      <th></th>\n",
       "      <th></th>\n",
       "      <th></th>\n",
       "      <th></th>\n",
       "      <th></th>\n",
       "      <th>time</th>\n",
       "      <th>1500-01-01 00:00:00</th>\n",
       "      <th>1510-01-01 00:00:00</th>\n",
       "      <th>1520-01-01 00:00:00</th>\n",
       "      <th>1530-01-01 00:00:00</th>\n",
       "      <th>1540-01-01 00:00:00</th>\n",
       "      <th>1550-01-01 00:00:00</th>\n",
       "      <th>1560-01-01 00:00:00</th>\n",
       "      <th>1570-01-01 00:00:00</th>\n",
       "    </tr>\n",
       "    <tr>\n",
       "      <th>model</th>\n",
       "      <th>scenario</th>\n",
       "      <th>region</th>\n",
       "      <th>variable</th>\n",
       "      <th>unit</th>\n",
       "      <th>parameter_type</th>\n",
       "      <th></th>\n",
       "      <th></th>\n",
       "      <th></th>\n",
       "      <th></th>\n",
       "      <th></th>\n",
       "      <th></th>\n",
       "      <th></th>\n",
       "      <th></th>\n",
       "    </tr>\n",
       "  </thead>\n",
       "  <tbody>\n",
       "    <tr>\n",
       "      <th>example</th>\n",
       "      <th>example</th>\n",
       "      <th>World</th>\n",
       "      <th>Emissions|CO2</th>\n",
       "      <th>GtC/yr</th>\n",
       "      <th>average</th>\n",
       "      <td>1.0</td>\n",
       "      <td>5.0</td>\n",
       "      <td>3.0</td>\n",
       "      <td>5.0</td>\n",
       "      <td>7.0</td>\n",
       "      <td>3.0</td>\n",
       "      <td>2.0</td>\n",
       "      <td>9.0</td>\n",
       "    </tr>\n",
       "  </tbody>\n",
       "</table>\n",
       "</div>"
      ],
      "text/plain": [
       "time                                                         1500-01-01 00:00:00  \\\n",
       "model   scenario region variable      unit   parameter_type                        \n",
       "example example  World  Emissions|CO2 GtC/yr average                         1.0   \n",
       "\n",
       "time                                                         1510-01-01 00:00:00  \\\n",
       "model   scenario region variable      unit   parameter_type                        \n",
       "example example  World  Emissions|CO2 GtC/yr average                         5.0   \n",
       "\n",
       "time                                                         1520-01-01 00:00:00  \\\n",
       "model   scenario region variable      unit   parameter_type                        \n",
       "example example  World  Emissions|CO2 GtC/yr average                         3.0   \n",
       "\n",
       "time                                                         1530-01-01 00:00:00  \\\n",
       "model   scenario region variable      unit   parameter_type                        \n",
       "example example  World  Emissions|CO2 GtC/yr average                         5.0   \n",
       "\n",
       "time                                                         1540-01-01 00:00:00  \\\n",
       "model   scenario region variable      unit   parameter_type                        \n",
       "example example  World  Emissions|CO2 GtC/yr average                         7.0   \n",
       "\n",
       "time                                                         1550-01-01 00:00:00  \\\n",
       "model   scenario region variable      unit   parameter_type                        \n",
       "example example  World  Emissions|CO2 GtC/yr average                         3.0   \n",
       "\n",
       "time                                                         1560-01-01 00:00:00  \\\n",
       "model   scenario region variable      unit   parameter_type                        \n",
       "example example  World  Emissions|CO2 GtC/yr average                         2.0   \n",
       "\n",
       "time                                                         1570-01-01 00:00:00  \n",
       "model   scenario region variable      unit   parameter_type                       \n",
       "example example  World  Emissions|CO2 GtC/yr average                         9.0  "
      ]
     },
     "execution_count": 0,
     "metadata": {},
     "output_type": "execute_result"
    }
   ],
   "source": [
    "source_data = ScmDataFrame(\n",
    "    source_values,\n",
    "    index=source_times,\n",
    "    columns={\n",
    "        \"model\": \"example\",\n",
    "        \"scenario\": \"example\",\n",
    "        \"region\": \"World\",\n",
    "        \"variable\": \"Emissions|CO2\",\n",
    "        \"unit\": \"GtC/yr\",\n",
    "        \"parameter_type\": \"average\",\n",
    "    }\n",
    ")\n",
    "source_data.timeseries()"
   ]
  },
  {
   "cell_type": "code",
   "execution_count": 0,
   "metadata": {},
   "outputs": [
    {
     "data": {
      "text/html": [
       "<div>\n",
       "<style scoped>\n",
       "    .dataframe tbody tr th:only-of-type {\n",
       "        vertical-align: middle;\n",
       "    }\n",
       "\n",
       "    .dataframe tbody tr th {\n",
       "        vertical-align: top;\n",
       "    }\n",
       "\n",
       "    .dataframe thead th {\n",
       "        text-align: right;\n",
       "    }\n",
       "</style>\n",
       "<table border=\"1\" class=\"dataframe\">\n",
       "  <thead>\n",
       "    <tr style=\"text-align: right;\">\n",
       "      <th></th>\n",
       "      <th></th>\n",
       "      <th></th>\n",
       "      <th></th>\n",
       "      <th></th>\n",
       "      <th>time</th>\n",
       "      <th>1497-01-01 00:00:00</th>\n",
       "      <th>1504-01-01 00:00:00</th>\n",
       "      <th>1511-01-01 00:00:00</th>\n",
       "      <th>1518-01-01 00:00:00</th>\n",
       "      <th>1525-01-01 00:00:00</th>\n",
       "      <th>1532-01-01 00:00:00</th>\n",
       "      <th>1539-01-01 00:00:00</th>\n",
       "      <th>1546-01-01 00:00:00</th>\n",
       "      <th>1553-01-01 00:00:00</th>\n",
       "      <th>1560-01-01 00:00:00</th>\n",
       "      <th>1567-01-01 00:00:00</th>\n",
       "      <th>1574-01-01 00:00:00</th>\n",
       "    </tr>\n",
       "    <tr>\n",
       "      <th>model</th>\n",
       "      <th>scenario</th>\n",
       "      <th>region</th>\n",
       "      <th>variable</th>\n",
       "      <th>unit</th>\n",
       "      <th>parameter_type</th>\n",
       "      <th></th>\n",
       "      <th></th>\n",
       "      <th></th>\n",
       "      <th></th>\n",
       "      <th></th>\n",
       "      <th></th>\n",
       "      <th></th>\n",
       "      <th></th>\n",
       "      <th></th>\n",
       "      <th></th>\n",
       "      <th></th>\n",
       "      <th></th>\n",
       "    </tr>\n",
       "  </thead>\n",
       "  <tbody>\n",
       "    <tr>\n",
       "      <th>example</th>\n",
       "      <th>example</th>\n",
       "      <th>World</th>\n",
       "      <th>Emissions|CO2</th>\n",
       "      <th>GtC/yr</th>\n",
       "      <th>average</th>\n",
       "      <td>-0.80011</td>\n",
       "      <td>2.020852</td>\n",
       "      <td>5.378381</td>\n",
       "      <td>3.427962</td>\n",
       "      <td>3.342887</td>\n",
       "      <td>5.099945</td>\n",
       "      <td>7.185921</td>\n",
       "      <td>5.446066</td>\n",
       "      <td>2.496295</td>\n",
       "      <td>1.207104</td>\n",
       "      <td>5.592513</td>\n",
       "      <td>10.749521</td>\n",
       "    </tr>\n",
       "  </tbody>\n",
       "</table>\n",
       "</div>"
      ],
      "text/plain": [
       "time                                                         1497-01-01 00:00:00  \\\n",
       "model   scenario region variable      unit   parameter_type                        \n",
       "example example  World  Emissions|CO2 GtC/yr average                    -0.80011   \n",
       "\n",
       "time                                                         1504-01-01 00:00:00  \\\n",
       "model   scenario region variable      unit   parameter_type                        \n",
       "example example  World  Emissions|CO2 GtC/yr average                    2.020852   \n",
       "\n",
       "time                                                         1511-01-01 00:00:00  \\\n",
       "model   scenario region variable      unit   parameter_type                        \n",
       "example example  World  Emissions|CO2 GtC/yr average                    5.378381   \n",
       "\n",
       "time                                                         1518-01-01 00:00:00  \\\n",
       "model   scenario region variable      unit   parameter_type                        \n",
       "example example  World  Emissions|CO2 GtC/yr average                    3.427962   \n",
       "\n",
       "time                                                         1525-01-01 00:00:00  \\\n",
       "model   scenario region variable      unit   parameter_type                        \n",
       "example example  World  Emissions|CO2 GtC/yr average                    3.342887   \n",
       "\n",
       "time                                                         1532-01-01 00:00:00  \\\n",
       "model   scenario region variable      unit   parameter_type                        \n",
       "example example  World  Emissions|CO2 GtC/yr average                    5.099945   \n",
       "\n",
       "time                                                         1539-01-01 00:00:00  \\\n",
       "model   scenario region variable      unit   parameter_type                        \n",
       "example example  World  Emissions|CO2 GtC/yr average                    7.185921   \n",
       "\n",
       "time                                                         1546-01-01 00:00:00  \\\n",
       "model   scenario region variable      unit   parameter_type                        \n",
       "example example  World  Emissions|CO2 GtC/yr average                    5.446066   \n",
       "\n",
       "time                                                         1553-01-01 00:00:00  \\\n",
       "model   scenario region variable      unit   parameter_type                        \n",
       "example example  World  Emissions|CO2 GtC/yr average                    2.496295   \n",
       "\n",
       "time                                                         1560-01-01 00:00:00  \\\n",
       "model   scenario region variable      unit   parameter_type                        \n",
       "example example  World  Emissions|CO2 GtC/yr average                    1.207104   \n",
       "\n",
       "time                                                         1567-01-01 00:00:00  \\\n",
       "model   scenario region variable      unit   parameter_type                        \n",
       "example example  World  Emissions|CO2 GtC/yr average                    5.592513   \n",
       "\n",
       "time                                                         1574-01-01 00:00:00  \n",
       "model   scenario region variable      unit   parameter_type                       \n",
       "example example  World  Emissions|CO2 GtC/yr average                   10.749521  "
      ]
     },
     "execution_count": 0,
     "metadata": {},
     "output_type": "execute_result"
    }
   ],
   "source": [
    "target_data = source_data.interpolate(\n",
    "    target_times,\n",
    "    interpolation_type=InterpolationType.LINEAR,\n",
    "    extrapolation_type=ExtrapolationType.LINEAR,\n",
    ")\n",
    "target_data.timeseries()"
   ]
  },
  {
   "cell_type": "code",
   "execution_count": 0,
   "metadata": {},
   "outputs": [
    {
     "data": {
      "image/png": "[encoded data removed]",
      "text/plain": [
       "<Figure size 432x288 with 1 Axes>"
      ]
     },
     "metadata": {
      "needs_background": "light"
     },
     "output_type": "display_data"
    }
   ],
   "source": [
    "ax = plt.figure().add_subplot(111)\n",
    "ax.scatter(\n",
    "    source_times,\n",
    "    source_values,\n",
    "    marker=MARKER_1,\n",
    "    color=COLOUR_1,\n",
    "    label=\"source\",\n",
    ")\n",
    "ax.scatter(\n",
    "    target_times,\n",
    "    interval_averages,\n",
    "    color=COLOUR_3,\n",
    "    marker=MARKER_3,\n",
    "    label=\"target (from above)\",\n",
    "    s=200,\n",
    ")\n",
    "ax.scatter(\n",
    "    target_data.timeseries().columns,\n",
    "    target_data.timeseries().values,\n",
    "    marker=MARKER_2,\n",
    "    color=COLOUR_2,\n",
    "    alpha=0.7,\n",
    "    label=\"target (from OpenSCM)\",\n",
    "    s=150,\n",
    ")\n",
    "ax.legend(frameon=False);"
   ]
  },
  {
   "cell_type": "markdown",
   "metadata": {},
   "source": [
    "Once again, we check our results are as intended."
   ]
  },
  {
   "cell_type": "code",
   "execution_count": 0,
   "metadata": {},
   "outputs": [],
   "source": [
    "np.testing.assert_allclose(\n",
    "    interval_averages,\n",
    "    target_data.timeseries().values.squeeze()\n",
    ")"
   ]
  },
  {
   "cell_type": "markdown",
   "metadata": {},
   "source": [
    "This result may seem non-intuitive at a first glance, but is due to the preservation of the integrals and, thus, different to a more intuitive linear interpolation."
   ]
  },
  {
   "cell_type": "markdown",
   "metadata": {},
   "source": [
    "## Example 4: Guessing timeseries type\n",
    "\n",
    "If we do not provide the `parameter_type` column, OpenSCM will guess the parameter type for us. Full details of how the guessing works can be found in the documentation of `openscm.scmdataframe.parameter_type`."
   ]
  },
  {
   "cell_type": "markdown",
   "metadata": {},
   "source": [
    "For example, Emissions timeseries are assumed to be 'average' timeseries. "
   ]
  },
  {
   "cell_type": "code",
   "execution_count": 0,
   "metadata": {},
   "outputs": [
    {
     "name": "stderr",
     "output_type": "stream",
     "text": [
      "`parameter_type` metadata not available. Guessing parameter types where unavailable.\n"
     ]
    },
    {
     "data": {
      "text/html": [
       "<div>\n",
       "<style scoped>\n",
       "    .dataframe tbody tr th:only-of-type {\n",
       "        vertical-align: middle;\n",
       "    }\n",
       "\n",
       "    .dataframe tbody tr th {\n",
       "        vertical-align: top;\n",
       "    }\n",
       "\n",
       "    .dataframe thead th {\n",
       "        text-align: right;\n",
       "    }\n",
       "</style>\n",
       "<table border=\"1\" class=\"dataframe\">\n",
       "  <thead>\n",
       "    <tr style=\"text-align: right;\">\n",
       "      <th></th>\n",
       "      <th></th>\n",
       "      <th></th>\n",
       "      <th></th>\n",
       "      <th></th>\n",
       "      <th>time</th>\n",
       "      <th>1497-01-01 00:00:00</th>\n",
       "      <th>1504-01-01 00:00:00</th>\n",
       "      <th>1511-01-01 00:00:00</th>\n",
       "      <th>1518-01-01 00:00:00</th>\n",
       "      <th>1525-01-01 00:00:00</th>\n",
       "      <th>1532-01-01 00:00:00</th>\n",
       "      <th>1539-01-01 00:00:00</th>\n",
       "      <th>1546-01-01 00:00:00</th>\n",
       "      <th>1553-01-01 00:00:00</th>\n",
       "      <th>1560-01-01 00:00:00</th>\n",
       "      <th>1567-01-01 00:00:00</th>\n",
       "      <th>1574-01-01 00:00:00</th>\n",
       "    </tr>\n",
       "    <tr>\n",
       "      <th>model</th>\n",
       "      <th>scenario</th>\n",
       "      <th>region</th>\n",
       "      <th>variable</th>\n",
       "      <th>unit</th>\n",
       "      <th>parameter_type</th>\n",
       "      <th></th>\n",
       "      <th></th>\n",
       "      <th></th>\n",
       "      <th></th>\n",
       "      <th></th>\n",
       "      <th></th>\n",
       "      <th></th>\n",
       "      <th></th>\n",
       "      <th></th>\n",
       "      <th></th>\n",
       "      <th></th>\n",
       "      <th></th>\n",
       "    </tr>\n",
       "  </thead>\n",
       "  <tbody>\n",
       "    <tr>\n",
       "      <th>example</th>\n",
       "      <th>example</th>\n",
       "      <th>World</th>\n",
       "      <th>Emissions|CO2</th>\n",
       "      <th>GtC/yr</th>\n",
       "      <th>average</th>\n",
       "      <td>-0.80011</td>\n",
       "      <td>2.020852</td>\n",
       "      <td>5.378381</td>\n",
       "      <td>3.427962</td>\n",
       "      <td>3.342887</td>\n",
       "      <td>5.099945</td>\n",
       "      <td>7.185921</td>\n",
       "      <td>5.446066</td>\n",
       "      <td>2.496295</td>\n",
       "      <td>1.207104</td>\n",
       "      <td>5.592513</td>\n",
       "      <td>10.749521</td>\n",
       "    </tr>\n",
       "  </tbody>\n",
       "</table>\n",
       "</div>"
      ],
      "text/plain": [
       "time                                                         1497-01-01 00:00:00  \\\n",
       "model   scenario region variable      unit   parameter_type                        \n",
       "example example  World  Emissions|CO2 GtC/yr average                    -0.80011   \n",
       "\n",
       "time                                                         1504-01-01 00:00:00  \\\n",
       "model   scenario region variable      unit   parameter_type                        \n",
       "example example  World  Emissions|CO2 GtC/yr average                    2.020852   \n",
       "\n",
       "time                                                         1511-01-01 00:00:00  \\\n",
       "model   scenario region variable      unit   parameter_type                        \n",
       "example example  World  Emissions|CO2 GtC/yr average                    5.378381   \n",
       "\n",
       "time                                                         1518-01-01 00:00:00  \\\n",
       "model   scenario region variable      unit   parameter_type                        \n",
       "example example  World  Emissions|CO2 GtC/yr average                    3.427962   \n",
       "\n",
       "time                                                         1525-01-01 00:00:00  \\\n",
       "model   scenario region variable      unit   parameter_type                        \n",
       "example example  World  Emissions|CO2 GtC/yr average                    3.342887   \n",
       "\n",
       "time                                                         1532-01-01 00:00:00  \\\n",
       "model   scenario region variable      unit   parameter_type                        \n",
       "example example  World  Emissions|CO2 GtC/yr average                    5.099945   \n",
       "\n",
       "time                                                         1539-01-01 00:00:00  \\\n",
       "model   scenario region variable      unit   parameter_type                        \n",
       "example example  World  Emissions|CO2 GtC/yr average                    7.185921   \n",
       "\n",
       "time                                                         1546-01-01 00:00:00  \\\n",
       "model   scenario region variable      unit   parameter_type                        \n",
       "example example  World  Emissions|CO2 GtC/yr average                    5.446066   \n",
       "\n",
       "time                                                         1553-01-01 00:00:00  \\\n",
       "model   scenario region variable      unit   parameter_type                        \n",
       "example example  World  Emissions|CO2 GtC/yr average                    2.496295   \n",
       "\n",
       "time                                                         1560-01-01 00:00:00  \\\n",
       "model   scenario region variable      unit   parameter_type                        \n",
       "example example  World  Emissions|CO2 GtC/yr average                    1.207104   \n",
       "\n",
       "time                                                         1567-01-01 00:00:00  \\\n",
       "model   scenario region variable      unit   parameter_type                        \n",
       "example example  World  Emissions|CO2 GtC/yr average                    5.592513   \n",
       "\n",
       "time                                                         1574-01-01 00:00:00  \n",
       "model   scenario region variable      unit   parameter_type                       \n",
       "example example  World  Emissions|CO2 GtC/yr average                   10.749521  "
      ]
     },
     "execution_count": 0,
     "metadata": {},
     "output_type": "execute_result"
    }
   ],
   "source": [
    "source_data = ScmDataFrame(\n",
    "    source_values,\n",
    "    index=source_times,\n",
    "    columns={\n",
    "        \"model\": \"example\",\n",
    "        \"scenario\": \"example\",\n",
    "        \"region\": \"World\",\n",
    "        \"variable\": \"Emissions|CO2\",\n",
    "        \"unit\": \"GtC/yr\",\n",
    "    }\n",
    ")\n",
    "\n",
    "target_data = source_data.interpolate(\n",
    "    target_times,\n",
    "    interpolation_type=InterpolationType.LINEAR,\n",
    "    extrapolation_type=ExtrapolationType.LINEAR,\n",
    ")\n",
    "target_data.timeseries()"
   ]
  },
  {
   "cell_type": "markdown",
   "metadata": {},
   "source": [
    "Concentration timeseries are assumed to be 'point' timeseries."
   ]
  },
  {
   "cell_type": "code",
   "execution_count": 0,
   "metadata": {},
   "outputs": [
    {
     "data": {
      "text/html": [
       "<div>\n",
       "<style scoped>\n",
       "    .dataframe tbody tr th:only-of-type {\n",
       "        vertical-align: middle;\n",
       "    }\n",
       "\n",
       "    .dataframe tbody tr th {\n",
       "        vertical-align: top;\n",
       "    }\n",
       "\n",
       "    .dataframe thead th {\n",
       "        text-align: right;\n",
       "    }\n",
       "</style>\n",
       "<table border=\"1\" class=\"dataframe\">\n",
       "  <thead>\n",
       "    <tr style=\"text-align: right;\">\n",
       "      <th></th>\n",
       "      <th></th>\n",
       "      <th></th>\n",
       "      <th></th>\n",
       "      <th></th>\n",
       "      <th>time</th>\n",
       "      <th>1497-01-01 00:00:00</th>\n",
       "      <th>1504-01-01 00:00:00</th>\n",
       "      <th>1511-01-01 00:00:00</th>\n",
       "      <th>1518-01-01 00:00:00</th>\n",
       "      <th>1525-01-01 00:00:00</th>\n",
       "      <th>1532-01-01 00:00:00</th>\n",
       "      <th>1539-01-01 00:00:00</th>\n",
       "      <th>1546-01-01 00:00:00</th>\n",
       "      <th>1553-01-01 00:00:00</th>\n",
       "      <th>1560-01-01 00:00:00</th>\n",
       "      <th>1567-01-01 00:00:00</th>\n",
       "      <th>1574-01-01 00:00:00</th>\n",
       "    </tr>\n",
       "    <tr>\n",
       "      <th>model</th>\n",
       "      <th>scenario</th>\n",
       "      <th>region</th>\n",
       "      <th>variable</th>\n",
       "      <th>unit</th>\n",
       "      <th>parameter_type</th>\n",
       "      <th></th>\n",
       "      <th></th>\n",
       "      <th></th>\n",
       "      <th></th>\n",
       "      <th></th>\n",
       "      <th></th>\n",
       "      <th></th>\n",
       "      <th></th>\n",
       "      <th></th>\n",
       "      <th></th>\n",
       "      <th></th>\n",
       "      <th></th>\n",
       "    </tr>\n",
       "  </thead>\n",
       "  <tbody>\n",
       "    <tr>\n",
       "      <th>example</th>\n",
       "      <th>example</th>\n",
       "      <th>World</th>\n",
       "      <th>Atmospheric Concentrations|CO2</th>\n",
       "      <th>ppm</th>\n",
       "      <th>point</th>\n",
       "      <td>-0.199343</td>\n",
       "      <td>2.599124</td>\n",
       "      <td>4.80011</td>\n",
       "      <td>3.399781</td>\n",
       "      <td>4.000274</td>\n",
       "      <td>5.399781</td>\n",
       "      <td>6.80011</td>\n",
       "      <td>4.599781</td>\n",
       "      <td>2.69989</td>\n",
       "      <td>2.0</td>\n",
       "      <td>6.899808</td>\n",
       "      <td>11.799617</td>\n",
       "    </tr>\n",
       "  </tbody>\n",
       "</table>\n",
       "</div>"
      ],
      "text/plain": [
       "time                                                                        1497-01-01 00:00:00  \\\n",
       "model   scenario region variable                       unit parameter_type                        \n",
       "example example  World  Atmospheric Concentrations|CO2 ppm  point                     -0.199343   \n",
       "\n",
       "time                                                                        1504-01-01 00:00:00  \\\n",
       "model   scenario region variable                       unit parameter_type                        \n",
       "example example  World  Atmospheric Concentrations|CO2 ppm  point                      2.599124   \n",
       "\n",
       "time                                                                        1511-01-01 00:00:00  \\\n",
       "model   scenario region variable                       unit parameter_type                        \n",
       "example example  World  Atmospheric Concentrations|CO2 ppm  point                       4.80011   \n",
       "\n",
       "time                                                                        1518-01-01 00:00:00  \\\n",
       "model   scenario region variable                       unit parameter_type                        \n",
       "example example  World  Atmospheric Concentrations|CO2 ppm  point                      3.399781   \n",
       "\n",
       "time                                                                        1525-01-01 00:00:00  \\\n",
       "model   scenario region variable                       unit parameter_type                        \n",
       "example example  World  Atmospheric Concentrations|CO2 ppm  point                      4.000274   \n",
       "\n",
       "time                                                                        1532-01-01 00:00:00  \\\n",
       "model   scenario region variable                       unit parameter_type                        \n",
       "example example  World  Atmospheric Concentrations|CO2 ppm  point                      5.399781   \n",
       "\n",
       "time                                                                        1539-01-01 00:00:00  \\\n",
       "model   scenario region variable                       unit parameter_type                        \n",
       "example example  World  Atmospheric Concentrations|CO2 ppm  point                       6.80011   \n",
       "\n",
       "time                                                                        1546-01-01 00:00:00  \\\n",
       "model   scenario region variable                       unit parameter_type                        \n",
       "example example  World  Atmospheric Concentrations|CO2 ppm  point                      4.599781   \n",
       "\n",
       "time                                                                        1553-01-01 00:00:00  \\\n",
       "model   scenario region variable                       unit parameter_type                        \n",
       "example example  World  Atmospheric Concentrations|CO2 ppm  point                       2.69989   \n",
       "\n",
       "time                                                                        1560-01-01 00:00:00  \\\n",
       "model   scenario region variable                       unit parameter_type                        \n",
       "example example  World  Atmospheric Concentrations|CO2 ppm  point                           2.0   \n",
       "\n",
       "time                                                                        1567-01-01 00:00:00  \\\n",
       "model   scenario region variable                       unit parameter_type                        \n",
       "example example  World  Atmospheric Concentrations|CO2 ppm  point                      6.899808   \n",
       "\n",
       "time                                                                        1574-01-01 00:00:00  \n",
       "model   scenario region variable                       unit parameter_type                       \n",
       "example example  World  Atmospheric Concentrations|CO2 ppm  point                     11.799617  "
      ]
     },
     "execution_count": 0,
     "metadata": {},
     "output_type": "execute_result"
    }
   ],
   "source": [
    "source_data = ScmDataFrame(\n",
    "    source_values,\n",
    "    index=source_times,\n",
    "    columns={\n",
    "        \"model\": \"example\",\n",
    "        \"scenario\": \"example\",\n",
    "        \"region\": \"World\",\n",
    "        \"variable\": \"Atmospheric Concentrations|CO2\",\n",
    "        \"unit\": \"ppm\",\n",
    "    }\n",
    ")\n",
    "\n",
    "target_data = source_data.interpolate(\n",
    "    target_times,\n",
    "    interpolation_type=InterpolationType.LINEAR,\n",
    "    extrapolation_type=ExtrapolationType.LINEAR,\n",
    ")\n",
    "target_data.timeseries()"
   ]
  }
 ],
 "metadata": {
  "kernelspec": {
   "display_name": "Python 3",
   "language": "python",
   "name": "python3"
  },
  "language_info": {
   "codemirror_mode": {
    "name": "ipython",
    "version": 3
   },
   "file_extension": ".py",
   "mimetype": "text/x-python",
   "name": "python",
   "nbconvert_exporter": "python",
   "pygments_lexer": "ipython3",
   "version": "3.7.1"
  }
 },
 "nbformat": 4,
 "nbformat_minor": 2
}
