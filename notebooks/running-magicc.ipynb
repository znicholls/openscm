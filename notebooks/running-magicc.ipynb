{
 "cells": [
  {
   "cell_type": "code",
   "execution_count": 1,
   "metadata": {},
   "outputs": [
    {
     "ename": "ImportError",
     "evalue": "cannot import name 'OpenSCMDataFrame' from 'openscm.highlevel' (/Users/zebedeenicholls/Documents/AGCEC/MCastle/openscm/openscm/highlevel.py)",
     "output_type": "error",
     "traceback": [
      "\u001b[0;31m---------------------------------------------------------------------------\u001b[0m",
      "\u001b[0;31mImportError\u001b[0m                               Traceback (most recent call last)",
      "\u001b[0;32m<ipython-input-1-5c3d8d174d37>\u001b[0m in \u001b[0;36m<module>\u001b[0;34m\u001b[0m\n\u001b[1;32m      4\u001b[0m \u001b[0;32mimport\u001b[0m \u001b[0mnumpy\u001b[0m \u001b[0;32mas\u001b[0m \u001b[0mnp\u001b[0m\u001b[0;34m\u001b[0m\u001b[0m\n\u001b[1;32m      5\u001b[0m \u001b[0;32mimport\u001b[0m \u001b[0mpandas\u001b[0m \u001b[0;32mas\u001b[0m \u001b[0mpd\u001b[0m\u001b[0;34m\u001b[0m\u001b[0m\n\u001b[0;32m----> 6\u001b[0;31m \u001b[0;32mimport\u001b[0m \u001b[0mpymagicc\u001b[0m\u001b[0;34m\u001b[0m\u001b[0m\n\u001b[0m\u001b[1;32m      7\u001b[0m \u001b[0;32mfrom\u001b[0m \u001b[0mpymagicc\u001b[0m\u001b[0;34m.\u001b[0m\u001b[0mio\u001b[0m \u001b[0;32mimport\u001b[0m \u001b[0mMAGICCData\u001b[0m\u001b[0;34m\u001b[0m\u001b[0m\n\u001b[1;32m      8\u001b[0m \u001b[0;32mfrom\u001b[0m \u001b[0mpymagicc\u001b[0m\u001b[0;34m.\u001b[0m\u001b[0mdefinitions\u001b[0m \u001b[0;32mimport\u001b[0m \u001b[0mMAGICC7_EMISSIONS_UNITS\u001b[0m\u001b[0;34m\u001b[0m\u001b[0m\n",
      "\u001b[0;32m~/Documents/AGCEC/MCastle/openscm/venv/lib/python3.7/site-packages/pymagicc/__init__.py\u001b[0m in \u001b[0;36m<module>\u001b[0;34m\u001b[0m\n\u001b[1;32m     16\u001b[0m \u001b[0;32mfrom\u001b[0m \u001b[0;34m.\u001b[0m\u001b[0m_version\u001b[0m \u001b[0;32mimport\u001b[0m \u001b[0mget_versions\u001b[0m\u001b[0;34m\u001b[0m\u001b[0m\n\u001b[1;32m     17\u001b[0m \u001b[0;32mfrom\u001b[0m \u001b[0;34m.\u001b[0m\u001b[0mconfig\u001b[0m \u001b[0;32mimport\u001b[0m \u001b[0mconfig\u001b[0m \u001b[0;32mas\u001b[0m \u001b[0m_config\u001b[0m\u001b[0;34m\u001b[0m\u001b[0m\n\u001b[0;32m---> 18\u001b[0;31m \u001b[0;32mfrom\u001b[0m \u001b[0;34m.\u001b[0m\u001b[0mcore\u001b[0m \u001b[0;32mimport\u001b[0m \u001b[0mMAGICC6\u001b[0m\u001b[0;34m,\u001b[0m \u001b[0mMAGICC7\u001b[0m  \u001b[0;31m# noqa\u001b[0m\u001b[0;34m\u001b[0m\u001b[0m\n\u001b[0m\u001b[1;32m     19\u001b[0m \u001b[0;32mfrom\u001b[0m \u001b[0;34m.\u001b[0m\u001b[0mio\u001b[0m \u001b[0;32mimport\u001b[0m \u001b[0mMAGICCData\u001b[0m\u001b[0;34m\u001b[0m\u001b[0m\n\u001b[1;32m     20\u001b[0m \u001b[0;34m\u001b[0m\u001b[0m\n",
      "\u001b[0;32m~/Documents/AGCEC/MCastle/openscm/venv/lib/python3.7/site-packages/pymagicc/core.py\u001b[0m in \u001b[0;36m<module>\u001b[0;34m\u001b[0m\n\u001b[1;32m     11\u001b[0m \u001b[0;32mfrom\u001b[0m \u001b[0;34m.\u001b[0m\u001b[0mconfig\u001b[0m \u001b[0;32mimport\u001b[0m \u001b[0mconfig\u001b[0m\u001b[0;34m\u001b[0m\u001b[0m\n\u001b[1;32m     12\u001b[0m \u001b[0;32mfrom\u001b[0m \u001b[0;34m.\u001b[0m\u001b[0mutils\u001b[0m \u001b[0;32mimport\u001b[0m \u001b[0mget_date_time_string\u001b[0m\u001b[0;34m\u001b[0m\u001b[0m\n\u001b[0;32m---> 13\u001b[0;31m \u001b[0;32mfrom\u001b[0m \u001b[0;34m.\u001b[0m\u001b[0mio\u001b[0m \u001b[0;32mimport\u001b[0m \u001b[0mMAGICCData\u001b[0m\u001b[0;34m,\u001b[0m \u001b[0mNoReaderWriterError\u001b[0m\u001b[0;34m,\u001b[0m \u001b[0mread_cfg_file\u001b[0m\u001b[0;34m,\u001b[0m \u001b[0mdetermine_tool\u001b[0m\u001b[0;34m\u001b[0m\u001b[0m\n\u001b[0m\u001b[1;32m     14\u001b[0m from .definitions import (\n\u001b[1;32m     15\u001b[0m     \u001b[0mconvert_magicc6_to_magicc7_variables\u001b[0m\u001b[0;34m,\u001b[0m\u001b[0;34m\u001b[0m\u001b[0m\n",
      "\u001b[0;32m~/Documents/AGCEC/MCastle/openscm/venv/lib/python3.7/site-packages/pymagicc/io.py\u001b[0m in \u001b[0;36m<module>\u001b[0;34m\u001b[0m\n\u001b[1;32m     14\u001b[0m \u001b[0;32mimport\u001b[0m \u001b[0mre\u001b[0m\u001b[0;34m\u001b[0m\u001b[0m\n\u001b[1;32m     15\u001b[0m \u001b[0;32mfrom\u001b[0m \u001b[0msix\u001b[0m \u001b[0;32mimport\u001b[0m \u001b[0mStringIO\u001b[0m\u001b[0;34m\u001b[0m\u001b[0m\n\u001b[0;32m---> 16\u001b[0;31m \u001b[0;32mfrom\u001b[0m \u001b[0mopenscm\u001b[0m\u001b[0;34m.\u001b[0m\u001b[0mhighlevel\u001b[0m \u001b[0;32mimport\u001b[0m \u001b[0mOpenSCMDataFrame\u001b[0m\u001b[0;34m\u001b[0m\u001b[0m\n\u001b[0m\u001b[1;32m     17\u001b[0m \u001b[0;34m\u001b[0m\u001b[0m\n\u001b[1;32m     18\u001b[0m \u001b[0;34m\u001b[0m\u001b[0m\n",
      "\u001b[0;31mImportError\u001b[0m: cannot import name 'OpenSCMDataFrame' from 'openscm.highlevel' (/Users/zebedeenicholls/Documents/AGCEC/MCastle/openscm/openscm/highlevel.py)"
     ]
    }
   ],
   "source": [
    "from os.path import join\n",
    "from datetime import datetime\n",
    "\n",
    "import numpy as np\n",
    "import pandas as pd\n",
    "import pymagicc\n",
    "from pymagicc import rcp26\n",
    "from pymagicc.io import MAGICCData\n",
    "from pymagicc.definitions import MAGICC7_EMISSIONS_UNITS\n",
    "from pymagicc.definitions import convert_magicc7_to_openscm_variables\n",
    "\n",
    "from openscm.core import Core, ParameterSet\n",
    "from openscm.units import unit_registry\n",
    "from openscm.internal import Adapter"
   ]
  },
  {
   "cell_type": "code",
   "execution_count": null,
   "metadata": {},
   "outputs": [],
   "source": [
    "import matplotlib\n",
    "%matplotlib inline"
   ]
  },
  {
   "cell_type": "code",
   "execution_count": null,
   "metadata": {},
   "outputs": [],
   "source": [
    "DATA_PATH = join(\"..\", \"data\", \"rcps\")\n",
    "# make internal\n",
    "ONE_YEAR = 1*unit_registry(\"yr\").to(\"s\").magnitude"
   ]
  },
  {
   "cell_type": "code",
   "execution_count": null,
   "metadata": {},
   "outputs": [],
   "source": [
    "rcp26.head()"
   ]
  },
  {
   "cell_type": "code",
   "execution_count": 5,
   "metadata": {},
   "outputs": [],
   "source": [
    "def convert_datetime_to_openscm_time(dt_in):\n",
    "    openscm_reference_time = datetime(1970, 1, 1, 0, 0, 0)\n",
    "    return (dt_in - openscm_reference_time).total_seconds()"
   ]
  },
  {
   "cell_type": "code",
   "execution_count": 6,
   "metadata": {},
   "outputs": [],
   "source": [
    "# TODO: make conversion to seconds internal\n",
    "magicc = Core(\n",
    "    \"MAGICC6\", \n",
    "    convert_datetime_to_openscm_time(datetime(1765, 1, 1, 0, 0, 0)),\n",
    "    convert_datetime_to_openscm_time(datetime(2499, 12, 31, 23, 59, 59)),\n",
    ")"
   ]
  },
  {
   "cell_type": "code",
   "execution_count": 7,
   "metadata": {},
   "outputs": [],
   "source": [
    "# TODO: put something like this in gap between high and low level interfaces\n",
    "def convert_pymagicc_df_to_parameter_set(pymagicc_df):\n",
    "    # make internal\n",
    "    ONE_YEAR = 1*unit_registry(\"yr\").to(\"s\").magnitude\n",
    "    \n",
    "    parameter_set = ParameterSet()\n",
    "    for (variable, region), df in pymagicc_df.groupby([\"variable\", \"region\"]):\n",
    "        df = df.sort_values(\"time\")\n",
    "        variable_openscm = tuple(variable.split(\"|\"))  # TODO: remove hard coding\n",
    "        region_openscm = tuple(region.split(\"|\"))\n",
    "        unit = df.unit.unique()\n",
    "        assert len(unit) == 1, \"emissions timeseries should all be in one unit\"  # TODO: remove this restriction\n",
    "        unit = unit[0]\n",
    "        syr = df.time.min()\n",
    "        assert syr == 1765, \"have not considered cases other than the RCPs yet\"  # TODO: remove this restriction\n",
    "        eyr = df.time.max()\n",
    "        assert eyr == 2500, \"have not considered cases other than the RCPs yet\"  # TODO: remove this restriction\n",
    "        assert len(df) == 736, \"have not considered cases other than the RCPs read in by pymagicc yet\"  # TODO: remove this restriction\n",
    "        tstep = ONE_YEAR  # having passed all above, can safely assume this [TODO: remove this assumption]\n",
    "\n",
    "        emms_view = parameter_set.get_writable_timeseries_view(\n",
    "            variable_openscm,\n",
    "            region_openscm,\n",
    "            unit,\n",
    "            convert_datetime_to_openscm_time(datetime(syr, 1, 1, 0, 0, 0)),\n",
    "            ONE_YEAR\n",
    "        )\n",
    "        emms_view.set_series(df[\"value\"].values)\n",
    "\n",
    "    return parameter_set"
   ]
  },
  {
   "cell_type": "code",
   "execution_count": 8,
   "metadata": {},
   "outputs": [],
   "source": [
    "class MAGICC6(Adapter):\n",
    "    def __init__(self, parameters: ParameterSet):\n",
    "        self.parameters = parameters\n",
    "        self.magicc = pymagicc.MAGICC6()\n",
    "\n",
    "    def initialize(self) -> None:\n",
    "        \"\"\"\n",
    "        Initialize the model.\n",
    "        \"\"\"\n",
    "        # TODO: make this robust to not using temporary magicc setups\n",
    "        self.magicc.create_copy()\n",
    "\n",
    "    def run(self) -> None:\n",
    "        \"\"\"\n",
    "        Run the model over the full time range.\n",
    "        \"\"\"\n",
    "        # in here is where all the switches about conc driven, emissions driven\n",
    "        # etc. would be processed\n",
    "        drivers = self.get_pymagicc_df()\n",
    "        results = self.magicc.run(drivers)\n",
    "        \n",
    "        return results\n",
    "    \n",
    "    def get_pymagicc_df(self) -> pymagicc.io.MAGICCData:\n",
    "        ONE_YEAR = 1*unit_registry(\"yr\").to(\"s\").magnitude  # make internally available\n",
    "        scen_file_emissions_units = MAGICC7_EMISSIONS_UNITS[\n",
    "            MAGICC7_EMISSIONS_UNITS[\"part_of_scenfile_with_emissions_code_1\"]\n",
    "        ]  # can only convert to SCEN file for now\n",
    "        region = (\"World\", )  # TODO: remove hard coding\n",
    "        stime = convert_datetime_to_openscm_time(datetime(1765, 1, 1, 0, 0, 0))  # TODO: remove hard coding\n",
    "\n",
    "        emms_df = []\n",
    "        for (variable, unit), df in scen_file_emissions_units.groupby([\"magicc_variable\", \"emissions_unit\"]):\n",
    "            variable_well_defined = \"{}_EMIS\".format(variable)\n",
    "            openscm_variable = convert_magicc7_to_openscm_variables(variable_well_defined)\n",
    "\n",
    "            emms_view = self.parameters.get_timeseries_view(\n",
    "                tuple(openscm_variable.split(\"|\")),  # TODO: remove hard coding\n",
    "                region,\n",
    "                unit,\n",
    "                stime,\n",
    "                ONE_YEAR,\n",
    "            )\n",
    "\n",
    "            values = emms_view.get_series()\n",
    "            assert len(values) == 736\n",
    "            time = np.arange(1765, 2501)  # TODO: remove hard coding\n",
    "            emms_df.append(pd.DataFrame({\n",
    "                \"variable\": openscm_variable,\n",
    "                \"todo\": \"SET\",\n",
    "                \"unit\": unit,\n",
    "                \"region\": \"|\".join(region),  # TODO: remove hard coding\n",
    "                \"time\": time,  \n",
    "                \"value\": values,\n",
    "            }))\n",
    "\n",
    "        emms_df = pd.concat(emms_df)\n",
    "        mdata = MAGICCData()\n",
    "        mdata.df = emms_df  # TODO: make this less rubbish\n",
    "        \n",
    "        return mdata\n",
    "        \n",
    "    def step(self) -> None:\n",
    "        \"\"\"\n",
    "        Do a single time step.\n",
    "        \"\"\"\n",
    "        raise NotImplementedError"
   ]
  },
  {
   "cell_type": "code",
   "execution_count": 9,
   "metadata": {},
   "outputs": [],
   "source": [
    "m = MAGICC6(convert_pymagicc_df_to_parameter_set(rcp26))\n",
    "m.initialize()"
   ]
  },
  {
   "cell_type": "code",
   "execution_count": 10,
   "metadata": {},
   "outputs": [],
   "source": [
    "results = m.run()"
   ]
  },
  {
   "cell_type": "code",
   "execution_count": 11,
   "metadata": {},
   "outputs": [
    {
     "data": {
      "text/plain": [
       "<matplotlib.axes._subplots.AxesSubplot at 0x11af73080>"
      ]
     },
     "execution_count": 11,
     "metadata": {},
     "output_type": "execute_result"
    },
    {
     "data": {
      "image/png": "[encoded data removed]",
      "text/plain": [
       "<Figure size 432x288 with 1 Axes>"
      ]
     },
     "metadata": {
      "needs_background": "light"
     },
     "output_type": "display_data"
    }
   ],
   "source": [
    "results.df[\n",
    "    (results.df[\"variable\"] == \"Surface Temperature\")\n",
    "    & (results.df[\"region\"] == \"World\")\n",
    "].plot(x=\"time\", y=\"value\")"
   ]
  },
  {
   "cell_type": "code",
   "execution_count": 12,
   "metadata": {},
   "outputs": [],
   "source": [
    "# TODO: move into highlevel\n",
    "# TODO: add caching flag\n",
    "\n",
    "# order to move to:\n",
    "# - for model in models\n",
    "#     - spin up model\n",
    "#     - for scenario in scenarios\n",
    "#        - setup scenario\n",
    "#        - for config in configs\n",
    "#            - run config\n",
    "#            - append output to results\n",
    "# - concatenate results and return\n",
    "def run(drivers, model_configurations):\n",
    "    assert isinstance(model_configurations, dict), \"model_configurations must be a dictionary\"\n",
    "    results = []\n",
    "    for model, configurations in model_configurations.items():\n",
    "        print(\"running {}\\n\".format(model))\n",
    "        runner = Core(\n",
    "            model, \n",
    "            convert_datetime_to_openscm_time(datetime(1765, 1, 1, 0, 0, 0)),  # TODO: remove hard coding\n",
    "            convert_datetime_to_openscm_time(datetime(2499, 12, 31, 23, 59, 59)),  # TODO: remove hard coding\n",
    "        )\n",
    "        runner.initialize()\n",
    "        for scenario, sdf in drivers.groupby([\"scenario\"]):\n",
    "            parameter_set_scenario = convert_pymagicc_df_to_parameter_set(sdf)\n",
    "            runner.setup_scenario(parameter_set_scenario)\n",
    "            for config in configurations:\n",
    "                parameter_set_config = convert_dict_to_parameter_set(config)\n",
    "                config_results = runner.run(parameter_set_config)\n",
    "                results.append(convert_parameter_set_to_openscmdf(config_results))\n",
    "                # TODO: get parameters out here too\n",
    "            \n",
    "    return pd.concat(results)"
   ]
  },
  {
   "cell_type": "code",
   "execution_count": 13,
   "metadata": {},
   "outputs": [
    {
     "name": "stdout",
     "output_type": "stream",
     "text": [
      "running MAGICC6\n",
      "\n"
     ]
    },
    {
     "ename": "AttributeError",
     "evalue": "'Core' object has no attribute 'initialize'",
     "output_type": "error",
     "traceback": [
      "\u001b[0;31m---------------------------------------------------------------------------\u001b[0m",
      "\u001b[0;31mAttributeError\u001b[0m                            Traceback (most recent call last)",
      "\u001b[0;32m<ipython-input-13-ae46fac867f7>\u001b[0m in \u001b[0;36m<module>\u001b[0;34m\u001b[0m\n\u001b[0;32m----> 1\u001b[0;31m \u001b[0mrun\u001b[0m\u001b[0;34m(\u001b[0m\u001b[0mrcp26\u001b[0m\u001b[0;34m,\u001b[0m \u001b[0;34m{\u001b[0m\u001b[0;34m\"MAGICC6\"\u001b[0m\u001b[0;34m:\u001b[0m \u001b[0;32mNone\u001b[0m\u001b[0;34m}\u001b[0m\u001b[0;34m)\u001b[0m\u001b[0;34m\u001b[0m\u001b[0m\n\u001b[0m",
      "\u001b[0;32m<ipython-input-12-48900bfa31f9>\u001b[0m in \u001b[0;36mrun\u001b[0;34m(drivers, model_configurations)\u001b[0m\n\u001b[1;32m     20\u001b[0m             \u001b[0mconvert_datetime_to_openscm_time\u001b[0m\u001b[0;34m(\u001b[0m\u001b[0mdatetime\u001b[0m\u001b[0;34m(\u001b[0m\u001b[0;36m2499\u001b[0m\u001b[0;34m,\u001b[0m \u001b[0;36m12\u001b[0m\u001b[0;34m,\u001b[0m \u001b[0;36m31\u001b[0m\u001b[0;34m,\u001b[0m \u001b[0;36m23\u001b[0m\u001b[0;34m,\u001b[0m \u001b[0;36m59\u001b[0m\u001b[0;34m,\u001b[0m \u001b[0;36m59\u001b[0m\u001b[0;34m)\u001b[0m\u001b[0;34m)\u001b[0m\u001b[0;34m,\u001b[0m  \u001b[0;31m# TODO: remove hard coding\u001b[0m\u001b[0;34m\u001b[0m\u001b[0m\n\u001b[1;32m     21\u001b[0m         )\n\u001b[0;32m---> 22\u001b[0;31m         \u001b[0mrunner\u001b[0m\u001b[0;34m.\u001b[0m\u001b[0minitialize\u001b[0m\u001b[0;34m(\u001b[0m\u001b[0;34m)\u001b[0m\u001b[0;34m\u001b[0m\u001b[0m\n\u001b[0m\u001b[1;32m     23\u001b[0m         \u001b[0;32mfor\u001b[0m \u001b[0mscenario\u001b[0m\u001b[0;34m,\u001b[0m \u001b[0msdf\u001b[0m \u001b[0;32min\u001b[0m \u001b[0mdrivers\u001b[0m\u001b[0;34m.\u001b[0m\u001b[0mgroupby\u001b[0m\u001b[0;34m(\u001b[0m\u001b[0;34m[\u001b[0m\u001b[0;34m\"scenario\"\u001b[0m\u001b[0;34m]\u001b[0m\u001b[0;34m)\u001b[0m\u001b[0;34m:\u001b[0m\u001b[0;34m\u001b[0m\u001b[0m\n\u001b[1;32m     24\u001b[0m             \u001b[0mparameter_set_scenario\u001b[0m \u001b[0;34m=\u001b[0m \u001b[0mconvert_pymagicc_df_to_parameter_set\u001b[0m\u001b[0;34m(\u001b[0m\u001b[0msdf\u001b[0m\u001b[0;34m)\u001b[0m\u001b[0;34m\u001b[0m\u001b[0m\n",
      "\u001b[0;31mAttributeError\u001b[0m: 'Core' object has no attribute 'initialize'"
     ]
    }
   ],
   "source": [
    "run(rcp26, {\"MAGICC6\": None})"
   ]
  },
  {
   "cell_type": "code",
   "execution_count": null,
   "metadata": {},
   "outputs": [],
   "source": []
  }
 ],
 "metadata": {
  "kernelspec": {
   "display_name": "Python 3",
   "language": "python",
   "name": "python3"
  }
 },
 "nbformat": 4,
 "nbformat_minor": 2
}
