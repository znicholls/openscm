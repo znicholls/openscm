{
 "cells": [
  {
   "cell_type": "code",
   "execution_count": 12,
   "metadata": {},
   "outputs": [],
   "source": [
    "from os.path import join\n",
    "from datetime import datetime\n",
    "\n",
    "import numpy as np\n",
    "import pandas as pd\n",
    "from pymagicc.io import MAGICCData\n",
    "\n",
    "from openscm.core import Core, ParameterSet\n",
    "from openscm.utils import convert_datetime_to_openscm_time\n",
    "from openscm.units import unit_registry\n",
    "from openscm.internal import Adapter\n",
    "from openscm.adapters import get_adapter, MAGICC6\n",
    "from openscm.highlevel import OpenSCMDataFrame"
   ]
  },
  {
   "cell_type": "code",
   "execution_count": 13,
   "metadata": {},
   "outputs": [],
   "source": [
    "import matplotlib\n",
    "%matplotlib inline"
   ]
  },
  {
   "cell_type": "code",
   "execution_count": 14,
   "metadata": {},
   "outputs": [],
   "source": [
    "DATA_PATH = join(\"..\", \"data\", \"rcps\")"
   ]
  },
  {
   "cell_type": "code",
   "execution_count": 21,
   "metadata": {},
   "outputs": [
    {
     "data": {
      "text/html": [
       "<div>\n",
       "<style scoped>\n",
       "    .dataframe tbody tr th:only-of-type {\n",
       "        vertical-align: middle;\n",
       "    }\n",
       "\n",
       "    .dataframe tbody tr th {\n",
       "        vertical-align: top;\n",
       "    }\n",
       "\n",
       "    .dataframe thead th {\n",
       "        text-align: right;\n",
       "    }\n",
       "</style>\n",
       "<table border=\"1\" class=\"dataframe\">\n",
       "  <thead>\n",
       "    <tr style=\"text-align: right;\">\n",
       "      <th></th>\n",
       "      <th>variable</th>\n",
       "      <th>todo</th>\n",
       "      <th>unit</th>\n",
       "      <th>region</th>\n",
       "      <th>climate_model</th>\n",
       "      <th>model</th>\n",
       "      <th>scenario</th>\n",
       "      <th>time</th>\n",
       "      <th>value</th>\n",
       "    </tr>\n",
       "  </thead>\n",
       "  <tbody>\n",
       "    <tr>\n",
       "      <th>5888</th>\n",
       "      <td>Emissions|BC</td>\n",
       "      <td>SET</td>\n",
       "      <td>Mt BC / yr</td>\n",
       "      <td>World</td>\n",
       "      <td>unspecified</td>\n",
       "      <td>IMAGE</td>\n",
       "      <td>RCP26</td>\n",
       "      <td>1765-07-12 00:00:00</td>\n",
       "      <td>0.000000</td>\n",
       "    </tr>\n",
       "    <tr>\n",
       "      <th>5889</th>\n",
       "      <td>Emissions|BC</td>\n",
       "      <td>SET</td>\n",
       "      <td>Mt BC / yr</td>\n",
       "      <td>World</td>\n",
       "      <td>unspecified</td>\n",
       "      <td>IMAGE</td>\n",
       "      <td>RCP26</td>\n",
       "      <td>1766-07-12 00:00:00</td>\n",
       "      <td>0.106998</td>\n",
       "    </tr>\n",
       "    <tr>\n",
       "      <th>5890</th>\n",
       "      <td>Emissions|BC</td>\n",
       "      <td>SET</td>\n",
       "      <td>Mt BC / yr</td>\n",
       "      <td>World</td>\n",
       "      <td>unspecified</td>\n",
       "      <td>IMAGE</td>\n",
       "      <td>RCP26</td>\n",
       "      <td>1767-07-12 00:00:00</td>\n",
       "      <td>0.133383</td>\n",
       "    </tr>\n",
       "    <tr>\n",
       "      <th>5891</th>\n",
       "      <td>Emissions|BC</td>\n",
       "      <td>SET</td>\n",
       "      <td>Mt BC / yr</td>\n",
       "      <td>World</td>\n",
       "      <td>unspecified</td>\n",
       "      <td>IMAGE</td>\n",
       "      <td>RCP26</td>\n",
       "      <td>1768-07-12 00:00:00</td>\n",
       "      <td>0.159847</td>\n",
       "    </tr>\n",
       "    <tr>\n",
       "      <th>5892</th>\n",
       "      <td>Emissions|BC</td>\n",
       "      <td>SET</td>\n",
       "      <td>Mt BC / yr</td>\n",
       "      <td>World</td>\n",
       "      <td>unspecified</td>\n",
       "      <td>IMAGE</td>\n",
       "      <td>RCP26</td>\n",
       "      <td>1769-07-12 00:00:00</td>\n",
       "      <td>0.186393</td>\n",
       "    </tr>\n",
       "  </tbody>\n",
       "</table>\n",
       "</div>"
      ],
      "text/plain": [
       "          variable todo        unit region climate_model  model scenario  \\\n",
       "5888  Emissions|BC  SET  Mt BC / yr  World   unspecified  IMAGE    RCP26   \n",
       "5889  Emissions|BC  SET  Mt BC / yr  World   unspecified  IMAGE    RCP26   \n",
       "5890  Emissions|BC  SET  Mt BC / yr  World   unspecified  IMAGE    RCP26   \n",
       "5891  Emissions|BC  SET  Mt BC / yr  World   unspecified  IMAGE    RCP26   \n",
       "5892  Emissions|BC  SET  Mt BC / yr  World   unspecified  IMAGE    RCP26   \n",
       "\n",
       "                     time     value  \n",
       "5888  1765-07-12 00:00:00  0.000000  \n",
       "5889  1766-07-12 00:00:00  0.106998  \n",
       "5890  1767-07-12 00:00:00  0.133383  \n",
       "5891  1768-07-12 00:00:00  0.159847  \n",
       "5892  1769-07-12 00:00:00  0.186393  "
      ]
     },
     "execution_count": 21,
     "metadata": {},
     "output_type": "execute_result"
    }
   ],
   "source": [
    "def load_rcp_data(filepath, **kwargs):\n",
    "    rcp = MAGICCData(\n",
    "        filepath,\n",
    "        **kwargs\n",
    "    )\n",
    "    \n",
    "    return OpenSCMDataFrame(rcp.data.copy())\n",
    "\n",
    "rcp26 = load_rcp_data(\n",
    "    join(DATA_PATH, \"RCP26_EMISSIONS.DAT\"), \n",
    "    model=\"IMAGE\",\n",
    "    scenario=\"RCP26\",\n",
    ")\n",
    "rcp26.head()"
   ]
  },
  {
   "cell_type": "code",
   "execution_count": 34,
   "metadata": {},
   "outputs": [],
   "source": [
    "rcps = OpenSCMDataFrame(rcp26.data.copy())\n",
    "rcp_dict = {\n",
    "    \"MiniCAM\": \"RCP45\",\n",
    "    \"AIM\": \"RCP60\",\n",
    "    \"MESSAGE\": \"RCP85\",\n",
    "}\n",
    "for model, scenario in rcp_dict.items():\n",
    "    rcpdata = load_rcp_data(\n",
    "        join(DATA_PATH, \"{}_EMISSIONS.DAT\".format(scenario)),\n",
    "        model=model,\n",
    "        scenario=scenario,\n",
    "    )\n",
    "    rcps.append(rcpdata, inplace=True)"
   ]
  },
  {
   "cell_type": "code",
   "execution_count": 36,
   "metadata": {},
   "outputs": [
    {
     "data": {
      "text/plain": [
       "0    RCP26\n",
       "1    RCP45\n",
       "2    RCP60\n",
       "3    RCP85\n",
       "Name: scenario, dtype: object"
      ]
     },
     "execution_count": 36,
     "metadata": {},
     "output_type": "execute_result"
    }
   ],
   "source": [
    "rcps.scenarios()"
   ]
  },
  {
   "cell_type": "code",
   "execution_count": 37,
   "metadata": {},
   "outputs": [],
   "source": [
    "# TODO: put something like this in gap between high and low level interfaces\n",
    "def convert_openscm_df_to_parameter_set(openscm_df):\n",
    "    # make internal\n",
    "    ONE_YEAR_INT = int(1*unit_registry(\"yr\").to(\"s\").magnitude)\n",
    "    \n",
    "    parameter_set = ParameterSet()\n",
    "    for (variable, region), df in openscm_df.data.groupby([\"variable\", \"region\"]):\n",
    "        df = df.sort_values(\"time\")\n",
    "        variable_openscm = tuple(variable.split(\"|\"))  # TODO: remove hard coding\n",
    "        region_openscm = tuple(region.split(\"|\"))\n",
    "        unit = df.unit.unique()\n",
    "        assert len(unit) == 1, \"emissions timeseries should all be in one unit\"  # TODO: remove this restriction\n",
    "        unit = unit[0]\n",
    "        syr = df.time.min().year\n",
    "        assert syr == 1765, \"have not considered cases other than the RCPs yet\"  # TODO: remove this restriction\n",
    "        eyr = df.time.max().year\n",
    "        assert eyr == 2500, \"have not considered cases other than the RCPs yet\"  # TODO: remove this restriction\n",
    "        assert len(df) == 736, \"have not considered cases other than the RCPs read in by pymagicc yet\"  # TODO: remove this restriction\n",
    "        tstep = ONE_YEAR_INT  # having passed all above, can safely assume this [TODO: remove this assumption]\n",
    "\n",
    "        emms_view = parameter_set.get_writable_timeseries_view(\n",
    "            variable_openscm,\n",
    "            region_openscm,\n",
    "            unit,\n",
    "            convert_datetime_to_openscm_time(datetime(syr, 1, 1, 0, 0, 0)),\n",
    "            tstep\n",
    "        )\n",
    "        emms_view.set_series(df[\"value\"].values)\n",
    "\n",
    "    return parameter_set"
   ]
  },
  {
   "cell_type": "code",
   "execution_count": 19,
   "metadata": {},
   "outputs": [],
   "source": [
    "def run(drivers, model_configurations):\n",
    "    assert isinstance(model_configurations, dict), \"model_configurations must be a dictionary\"\n",
    "    for climate_model, configurations in model_configurations.items():\n",
    "        print(\"running {}\\n\".format(climate_model))\n",
    "        runner = get_adapter(climate_model).initialize()\n",
    "        for (scenario, model) sdf in drivers.data.groupby([\"scenario\", \"model\"]):\n",
    "            print(\"running {}\".format(scenario))\n",
    "            parameter_set_scenario = convert_openscm_df_to_parameter_set(\n",
    "                OpenSCMDataFrame(sdf.copy())\n",
    "            )\n",
    "            runner.setup_scenario(parameter_set_scenario)\n",
    "            for config in configurations:\n",
    "                parameter_set_config = convert_dict_to_parameter_set(config)\n",
    "                config_results = runner.run(parameter_set_config)\n",
    "                config_results = convert_parameter_set_to_openscmdf(\n",
    "                    config_results,\n",
    "                    model=model, \n",
    "                    scenario=scenario, \n",
    "                    climate_model=climate_model,\n",
    "                )\n",
    "                try:\n",
    "                    results.append(config_results)\n",
    "                except UnboundLocalError:\n",
    "                    results = config_results\n",
    "                # TODO: get parameters out here too\n",
    "            \n",
    "    return results"
   ]
  },
  {
   "cell_type": "code",
   "execution_count": 20,
   "metadata": {},
   "outputs": [
    {
     "name": "stdout",
     "output_type": "stream",
     "text": [
      "running PH99\n",
      "\n",
      "running RCP26\n"
     ]
    },
    {
     "ename": "KeyError",
     "evalue": "'PH99'",
     "output_type": "error",
     "traceback": [
      "\u001b[0;31m---------------------------------------------------------------------------\u001b[0m",
      "\u001b[0;31mKeyError\u001b[0m                                  Traceback (most recent call last)",
      "\u001b[0;32m<ipython-input-20-ec398fb2afba>\u001b[0m in \u001b[0;36m<module>\u001b[0;34m\u001b[0m\n\u001b[0;32m----> 1\u001b[0;31m \u001b[0mres\u001b[0m \u001b[0;34m=\u001b[0m \u001b[0mrun\u001b[0m\u001b[0;34m(\u001b[0m\u001b[0mrcps\u001b[0m\u001b[0;34m,\u001b[0m \u001b[0;34m{\u001b[0m\u001b[0;34m\"PH99\"\u001b[0m\u001b[0;34m:\u001b[0m \u001b[0;34m[\u001b[0m\u001b[0;34m{\u001b[0m\u001b[0;34m\"beta\"\u001b[0m\u001b[0;34m:\u001b[0m \u001b[0;36m0.5\u001b[0m \u001b[0;34m*\u001b[0m \u001b[0munit_registry\u001b[0m\u001b[0;34m(\u001b[0m\u001b[0;34m\"ppm/GtC\"\u001b[0m\u001b[0;34m)\u001b[0m\u001b[0;34m}\u001b[0m\u001b[0;34m]\u001b[0m\u001b[0;34m}\u001b[0m\u001b[0;34m)\u001b[0m\u001b[0;34m;\u001b[0m\u001b[0;34m\u001b[0m\u001b[0m\n\u001b[0m",
      "\u001b[0;32m<ipython-input-19-a0aac34c0131>\u001b[0m in \u001b[0;36mrun\u001b[0;34m(drivers, model_configurations)\u001b[0m\n\u001b[1;32m      5\u001b[0m         \u001b[0;32mfor\u001b[0m \u001b[0mi\u001b[0m\u001b[0;34m,\u001b[0m \u001b[0;34m(\u001b[0m\u001b[0mscenario\u001b[0m\u001b[0;34m,\u001b[0m \u001b[0msdf\u001b[0m\u001b[0;34m)\u001b[0m \u001b[0;32min\u001b[0m \u001b[0menumerate\u001b[0m\u001b[0;34m(\u001b[0m\u001b[0mdrivers\u001b[0m\u001b[0;34m.\u001b[0m\u001b[0mdata\u001b[0m\u001b[0;34m.\u001b[0m\u001b[0mgroupby\u001b[0m\u001b[0;34m(\u001b[0m\u001b[0;34m[\u001b[0m\u001b[0;34m\"scenario\"\u001b[0m\u001b[0;34m]\u001b[0m\u001b[0;34m)\u001b[0m\u001b[0;34m)\u001b[0m\u001b[0;34m:\u001b[0m\u001b[0;34m\u001b[0m\u001b[0m\n\u001b[1;32m      6\u001b[0m             \u001b[0mprint\u001b[0m\u001b[0;34m(\u001b[0m\u001b[0;34m\"running {}\"\u001b[0m\u001b[0;34m.\u001b[0m\u001b[0mformat\u001b[0m\u001b[0;34m(\u001b[0m\u001b[0mscenario\u001b[0m\u001b[0;34m)\u001b[0m\u001b[0;34m)\u001b[0m\u001b[0;34m\u001b[0m\u001b[0m\n\u001b[0;32m----> 7\u001b[0;31m             \u001b[0mrunner\u001b[0m \u001b[0;34m=\u001b[0m \u001b[0mget_adapter\u001b[0m\u001b[0;34m(\u001b[0m\u001b[0mmodel\u001b[0m\u001b[0;34m)\u001b[0m\u001b[0;34m(\u001b[0m\u001b[0mconvert_openscm_df_to_parameter_set\u001b[0m\u001b[0;34m(\u001b[0m\u001b[0mMAGICCData\u001b[0m\u001b[0;34m(\u001b[0m\u001b[0msdf\u001b[0m\u001b[0;34m.\u001b[0m\u001b[0mcopy\u001b[0m\u001b[0;34m(\u001b[0m\u001b[0;34m)\u001b[0m\u001b[0;34m)\u001b[0m\u001b[0;34m)\u001b[0m\u001b[0;34m)\u001b[0m\u001b[0;34m\u001b[0m\u001b[0m\n\u001b[0m\u001b[1;32m      8\u001b[0m             \u001b[0mrunner\u001b[0m\u001b[0;34m.\u001b[0m\u001b[0minitialize\u001b[0m\u001b[0;34m(\u001b[0m\u001b[0;34m)\u001b[0m\u001b[0;34m\u001b[0m\u001b[0m\n\u001b[1;32m      9\u001b[0m \u001b[0;31m#             parameter_set_scenario =\u001b[0m\u001b[0;34m\u001b[0m\u001b[0;34m\u001b[0m\u001b[0m\n",
      "\u001b[0;32m~/Documents/AGCEC/MCastle/openscm/openscm/adapters/__init__.py\u001b[0m in \u001b[0;36mget_adapter\u001b[0;34m(model)\u001b[0m\n\u001b[1;32m     10\u001b[0m         \u001b[0;34m\"Hector\"\u001b[0m\u001b[0;34m:\u001b[0m \u001b[0mHector\u001b[0m\u001b[0;34m,\u001b[0m\u001b[0;34m\u001b[0m\u001b[0m\n\u001b[1;32m     11\u001b[0m         \u001b[0;34m\"PH99\"\u001b[0m\u001b[0;34m:\u001b[0m \u001b[0mPH99\u001b[0m\u001b[0;34m,\u001b[0m\u001b[0;34m\u001b[0m\u001b[0m\n\u001b[0;32m---> 12\u001b[0;31m     }\n\u001b[0m\u001b[1;32m     13\u001b[0m \u001b[0;34m\u001b[0m\u001b[0m\n\u001b[1;32m     14\u001b[0m     \u001b[0;32mreturn\u001b[0m \u001b[0mmodel_classes\u001b[0m\u001b[0;34m[\u001b[0m\u001b[0mmodel\u001b[0m\u001b[0;34m]\u001b[0m\u001b[0;34m\u001b[0m\u001b[0m\n",
      "\u001b[0;31mKeyError\u001b[0m: 'PH99'"
     ]
    }
   ],
   "source": [
    "res = run(rcps, {\"PH99\": [{\"beta\": 0.5 * unit_registry(\"ppm/GtC\")}]});"
   ]
  },
  {
   "cell_type": "code",
   "execution_count": 8,
   "metadata": {},
   "outputs": [
    {
     "name": "stderr",
     "output_type": "stream",
     "text": [
      "object of type <class 'float'> cannot be safely interpreted as an integer.\n"
     ]
    }
   ],
   "source": [
    "m = MAGICC6(convert_openscm_df_to_parameter_set(rcp26))\n",
    "m.initialize()"
   ]
  },
  {
   "cell_type": "code",
   "execution_count": 9,
   "metadata": {},
   "outputs": [],
   "source": [
    "results = m.run()"
   ]
  },
  {
   "cell_type": "code",
   "execution_count": 10,
   "metadata": {},
   "outputs": [
    {
     "data": {
      "image/png": "[encoded data removed]",
      "text/plain": [
       "<Figure size 432x288 with 1 Axes>"
      ]
     },
     "metadata": {
      "needs_background": "light"
     },
     "output_type": "display_data"
    }
   ],
   "source": [
    "results.filter(\n",
    "    variable=\"Surface Temperature\",\n",
    "    region=\"World\",\n",
    ").line_plot(x=\"time\");"
   ]
  },
  {
   "cell_type": "code",
   "execution_count": null,
   "metadata": {},
   "outputs": [],
   "source": [
    "# TODO: move into highlevel\n",
    "# TODO: add caching flag\n",
    "\n",
    "# order to move to:\n",
    "# - for model in models\n",
    "#     - spin up model\n",
    "#     - for scenario in scenarios\n",
    "#        - setup scenario\n",
    "#        - for config in configs\n",
    "#            - run config\n",
    "#            - append output to results\n",
    "# - concatenate results and return\n",
    "def run(drivers, model_configurations):\n",
    "    assert isinstance(model_configurations, dict), \"model_configurations must be a dictionary\"\n",
    "    for model, configurations in model_configurations.items():\n",
    "        print(\"running {}\\n\".format(model))\n",
    "        for i, (scenario, sdf) in enumerate(drivers.data.groupby([\"scenario\"])):\n",
    "            print(\"running {}\".format(scenario))\n",
    "            runner = get_adapter(model)(convert_openscm_df_to_parameter_set(MAGICCData(sdf.copy())))\n",
    "            runner.initialize()\n",
    "#             parameter_set_scenario = \n",
    "#             runner.setup_scenario(parameter_set_scenario)\n",
    "            for config in configurations:\n",
    "                # temporary cheat\n",
    "#                 parameter_set_config = convert_dict_to_parameter_set(config) if config is not None else None\n",
    "#                 config_results = runner.run(parameter_set_config)\n",
    "                config_results = runner.run(**config)\n",
    "                config_results = MAGICCData(\n",
    "                    config_results.data.copy(), \n",
    "                    model=sdf[\"model\"].iloc[0], \n",
    "                    scenario=scenario, \n",
    "                )\n",
    "                # temporary cheat\n",
    "#                 results.append(convert_parameter_set_to_openscmdf(config_results))\n",
    "                try:\n",
    "                    results.append(config_results)\n",
    "                except UnboundLocalError:\n",
    "                    results = config_results\n",
    "                # TODO: get parameters out here too\n",
    "            \n",
    "    return results"
   ]
  },
  {
   "cell_type": "code",
   "execution_count": null,
   "metadata": {},
   "outputs": [],
   "source": [
    "res = run(rcp26, {\"MAGICC6\": [{\"core_climatesensitivity\": 3.5}]})\n",
    "res.head()"
   ]
  },
  {
   "cell_type": "code",
   "execution_count": null,
   "metadata": {},
   "outputs": [],
   "source": [
    "res = run(rcps, {\"MAGICC6\": [{\"core_climatesensitivity\": 3.5}]});"
   ]
  },
  {
   "cell_type": "code",
   "execution_count": null,
   "metadata": {},
   "outputs": [],
   "source": [
    "res.filter(variable=\"Surface Temperature\", region=\"World\").line_plot(color=\"scenario\", x=\"time\");"
   ]
  },
  {
   "cell_type": "code",
   "execution_count": null,
   "metadata": {},
   "outputs": [],
   "source": []
  }
 ],
 "metadata": {
  "kernelspec": {
   "display_name": "Python 3",
   "language": "python",
   "name": "python3"
  },
  "language_info": {
   "codemirror_mode": {
    "name": "ipython",
    "version": 3
   },
   "file_extension": ".py",
   "mimetype": "text/x-python",
   "name": "python",
   "nbconvert_exporter": "python",
   "pygments_lexer": "ipython3",
   "version": "3.7.0"
  }
 },
 "nbformat": 4,
 "nbformat_minor": 2
}
