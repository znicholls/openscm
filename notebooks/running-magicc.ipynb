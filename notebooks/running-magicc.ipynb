{
 "cells": [
  {
   "cell_type": "code",
   "execution_count": 1,
   "metadata": {},
   "outputs": [
    {
     "data": {
      "application/javascript": [
       "IPython.OutputArea.prototype._should_scroll = function(lines) { return false; }"
      ],
      "text/plain": [
       "<IPython.core.display.Javascript object>"
      ]
     },
     "metadata": {},
     "output_type": "display_data"
    }
   ],
   "source": [
    "from os.path import join\n",
    "from datetime import datetime\n",
    "\n",
    "import numpy as np\n",
    "import pandas as pd\n",
    "from pymagicc.io import MAGICCData\n",
    "\n",
    "from openscm.core import Core, ParameterSet\n",
    "from openscm.utils import convert_datetime_to_openscm_time\n",
    "from openscm.units import unit_registry\n",
    "from openscm.internal import Adapter\n",
    "from openscm.adapters import get_adapter, MAGICC6\n",
    "from openscm.highlevel import OpenSCMDataFrame"
   ]
  },
  {
   "cell_type": "code",
   "execution_count": 2,
   "metadata": {},
   "outputs": [],
   "source": [
    "import matplotlib\n",
    "%matplotlib inline"
   ]
  },
  {
   "cell_type": "code",
   "execution_count": 3,
   "metadata": {},
   "outputs": [],
   "source": [
    "DATA_PATH = join(\"..\", \"data\", \"rcps\")\n",
    "# make internal\n",
    "ONE_YEAR = 1*unit_registry(\"yr\").to(\"s\").magnitude"
   ]
  },
  {
   "cell_type": "code",
   "execution_count": 4,
   "metadata": {},
   "outputs": [
    {
     "data": {
      "text/html": [
       "<div>\n",
       "<style scoped>\n",
       "    .dataframe tbody tr th:only-of-type {\n",
       "        vertical-align: middle;\n",
       "    }\n",
       "\n",
       "    .dataframe tbody tr th {\n",
       "        vertical-align: top;\n",
       "    }\n",
       "\n",
       "    .dataframe thead th {\n",
       "        text-align: right;\n",
       "    }\n",
       "</style>\n",
       "<table border=\"1\" class=\"dataframe\">\n",
       "  <thead>\n",
       "    <tr style=\"text-align: right;\">\n",
       "      <th></th>\n",
       "      <th>variable</th>\n",
       "      <th>todo</th>\n",
       "      <th>unit</th>\n",
       "      <th>region</th>\n",
       "      <th>climate_model</th>\n",
       "      <th>model</th>\n",
       "      <th>scenario</th>\n",
       "      <th>time</th>\n",
       "      <th>value</th>\n",
       "    </tr>\n",
       "  </thead>\n",
       "  <tbody>\n",
       "    <tr>\n",
       "      <th>5888</th>\n",
       "      <td>Emissions|BC</td>\n",
       "      <td>SET</td>\n",
       "      <td>Mt BC / yr</td>\n",
       "      <td>World</td>\n",
       "      <td>unspecified</td>\n",
       "      <td>IMAGE</td>\n",
       "      <td>RCP26</td>\n",
       "      <td>1765-07-12 00:00:00</td>\n",
       "      <td>0.000000</td>\n",
       "    </tr>\n",
       "    <tr>\n",
       "      <th>5889</th>\n",
       "      <td>Emissions|BC</td>\n",
       "      <td>SET</td>\n",
       "      <td>Mt BC / yr</td>\n",
       "      <td>World</td>\n",
       "      <td>unspecified</td>\n",
       "      <td>IMAGE</td>\n",
       "      <td>RCP26</td>\n",
       "      <td>1766-07-12 00:00:00</td>\n",
       "      <td>0.106998</td>\n",
       "    </tr>\n",
       "    <tr>\n",
       "      <th>5890</th>\n",
       "      <td>Emissions|BC</td>\n",
       "      <td>SET</td>\n",
       "      <td>Mt BC / yr</td>\n",
       "      <td>World</td>\n",
       "      <td>unspecified</td>\n",
       "      <td>IMAGE</td>\n",
       "      <td>RCP26</td>\n",
       "      <td>1767-07-12 00:00:00</td>\n",
       "      <td>0.133383</td>\n",
       "    </tr>\n",
       "    <tr>\n",
       "      <th>5891</th>\n",
       "      <td>Emissions|BC</td>\n",
       "      <td>SET</td>\n",
       "      <td>Mt BC / yr</td>\n",
       "      <td>World</td>\n",
       "      <td>unspecified</td>\n",
       "      <td>IMAGE</td>\n",
       "      <td>RCP26</td>\n",
       "      <td>1768-07-12 00:00:00</td>\n",
       "      <td>0.159847</td>\n",
       "    </tr>\n",
       "    <tr>\n",
       "      <th>5892</th>\n",
       "      <td>Emissions|BC</td>\n",
       "      <td>SET</td>\n",
       "      <td>Mt BC / yr</td>\n",
       "      <td>World</td>\n",
       "      <td>unspecified</td>\n",
       "      <td>IMAGE</td>\n",
       "      <td>RCP26</td>\n",
       "      <td>1769-07-12 00:00:00</td>\n",
       "      <td>0.186393</td>\n",
       "    </tr>\n",
       "  </tbody>\n",
       "</table>\n",
       "</div>"
      ],
      "text/plain": [
       "          variable todo        unit region climate_model  model scenario  \\\n",
       "5888  Emissions|BC  SET  Mt BC / yr  World   unspecified  IMAGE    RCP26   \n",
       "5889  Emissions|BC  SET  Mt BC / yr  World   unspecified  IMAGE    RCP26   \n",
       "5890  Emissions|BC  SET  Mt BC / yr  World   unspecified  IMAGE    RCP26   \n",
       "5891  Emissions|BC  SET  Mt BC / yr  World   unspecified  IMAGE    RCP26   \n",
       "5892  Emissions|BC  SET  Mt BC / yr  World   unspecified  IMAGE    RCP26   \n",
       "\n",
       "                     time     value  \n",
       "5888  1765-07-12 00:00:00  0.000000  \n",
       "5889  1766-07-12 00:00:00  0.106998  \n",
       "5890  1767-07-12 00:00:00  0.133383  \n",
       "5891  1768-07-12 00:00:00  0.159847  \n",
       "5892  1769-07-12 00:00:00  0.186393  "
      ]
     },
     "execution_count": 4,
     "metadata": {},
     "output_type": "execute_result"
    }
   ],
   "source": [
    "rcp26 = MAGICCData(\n",
    "    join(DATA_PATH, \"RCP26_EMISSIONS.DAT\"),\n",
    "    model=\"IMAGE\",\n",
    "    scenario=\"RCP26\",\n",
    ")\n",
    "rcp26.head()"
   ]
  },
  {
   "cell_type": "code",
   "execution_count": 5,
   "metadata": {},
   "outputs": [],
   "source": [
    "rcps = MAGICCData(rcp26.data.copy())\n",
    "rcp_dict = {\n",
    "    \"MiniCAM\": \"RCP45\",\n",
    "    \"AIM\": \"RCP60\",\n",
    "    \"MESSAGE\": \"RCP85\",\n",
    "}\n",
    "for model, scenario in rcp_dict.items():\n",
    "    rcps.append(\n",
    "        join(DATA_PATH, \"{}_EMISSIONS.DAT\".format(scenario)),\n",
    "        model=model,\n",
    "        scenario=scenario,\n",
    "    )"
   ]
  },
  {
   "cell_type": "code",
   "execution_count": 6,
   "metadata": {},
   "outputs": [
    {
     "data": {
      "text/plain": [
       "0    RCP26\n",
       "1    RCP45\n",
       "2    RCP60\n",
       "3    RCP85\n",
       "Name: scenario, dtype: object"
      ]
     },
     "execution_count": 6,
     "metadata": {},
     "output_type": "execute_result"
    }
   ],
   "source": [
    "rcps.scenarios()"
   ]
  },
  {
   "cell_type": "code",
   "execution_count": 7,
   "metadata": {},
   "outputs": [],
   "source": [
    "magicc = Core(\n",
    "    \"MAGICC6\", \n",
    "    convert_datetime_to_openscm_time(datetime(1765, 1, 1, 0, 0, 0)),\n",
    "    convert_datetime_to_openscm_time(datetime(2499, 12, 31, 23, 59, 59)),\n",
    ")"
   ]
  },
  {
   "cell_type": "code",
   "execution_count": 8,
   "metadata": {},
   "outputs": [],
   "source": [
    "# TODO: put something like this in gap between high and low level interfaces\n",
    "def convert_openscm_df_to_parameter_set(openscm_df):\n",
    "    # make internal\n",
    "    ONE_YEAR = 1*unit_registry(\"yr\").to(\"s\").magnitude\n",
    "    \n",
    "    parameter_set = ParameterSet()\n",
    "    for (variable, region), df in openscm_df.data.groupby([\"variable\", \"region\"]):\n",
    "        df = df.sort_values(\"time\")\n",
    "        variable_openscm = tuple(variable.split(\"|\"))  # TODO: remove hard coding\n",
    "        region_openscm = tuple(region.split(\"|\"))\n",
    "        unit = df.unit.unique()\n",
    "        assert len(unit) == 1, \"emissions timeseries should all be in one unit\"  # TODO: remove this restriction\n",
    "        unit = unit[0]\n",
    "        syr = df.time.min().year\n",
    "        assert syr == 1765, \"have not considered cases other than the RCPs yet\"  # TODO: remove this restriction\n",
    "        eyr = df.time.max().year\n",
    "        assert eyr == 2500, \"have not considered cases other than the RCPs yet\"  # TODO: remove this restriction\n",
    "        assert len(df) == 736, \"have not considered cases other than the RCPs read in by pymagicc yet\"  # TODO: remove this restriction\n",
    "        tstep = ONE_YEAR  # having passed all above, can safely assume this [TODO: remove this assumption]\n",
    "\n",
    "        emms_view = parameter_set.get_writable_timeseries_view(\n",
    "            variable_openscm,\n",
    "            region_openscm,\n",
    "            unit,\n",
    "            convert_datetime_to_openscm_time(datetime(syr, 1, 1, 0, 0, 0)),\n",
    "            tstep\n",
    "        )\n",
    "        emms_view.set_series(df[\"value\"].values)\n",
    "\n",
    "    return parameter_set"
   ]
  },
  {
   "cell_type": "code",
   "execution_count": 9,
   "metadata": {},
   "outputs": [
    {
     "name": "stderr",
     "output_type": "stream",
     "text": [
      "object of type <class 'float'> cannot be safely interpreted as an integer.\n"
     ]
    }
   ],
   "source": [
    "m = MAGICC6(convert_openscm_df_to_parameter_set(rcp26))\n",
    "m.initialize()"
   ]
  },
  {
   "cell_type": "code",
   "execution_count": 10,
   "metadata": {},
   "outputs": [],
   "source": [
    "results = m.run()"
   ]
  },
  {
   "cell_type": "code",
   "execution_count": 11,
   "metadata": {},
   "outputs": [
    {
     "data": {
      "image/png": "[encoded data removed]",
      "text/plain": [
       "<Figure size 432x288 with 1 Axes>"
      ]
     },
     "metadata": {
      "needs_background": "light"
     },
     "output_type": "display_data"
    }
   ],
   "source": [
    "results.filter(\n",
    "    variable=\"Surface Temperature\",\n",
    "    region=\"World\",\n",
    ").line_plot(x=\"time\");"
   ]
  },
  {
   "cell_type": "code",
   "execution_count": 12,
   "metadata": {},
   "outputs": [],
   "source": [
    "# TODO: move into highlevel\n",
    "# TODO: add caching flag\n",
    "\n",
    "# order to move to:\n",
    "# - for model in models\n",
    "#     - spin up model\n",
    "#     - for scenario in scenarios\n",
    "#        - setup scenario\n",
    "#        - for config in configs\n",
    "#            - run config\n",
    "#            - append output to results\n",
    "# - concatenate results and return\n",
    "def run(drivers, model_configurations):\n",
    "    assert isinstance(model_configurations, dict), \"model_configurations must be a dictionary\"\n",
    "    for model, configurations in model_configurations.items():\n",
    "        print(\"running {}\\n\".format(model))\n",
    "        for i, (scenario, sdf) in enumerate(drivers.data.groupby([\"scenario\"])):\n",
    "            print(\"running {}\".format(scenario))\n",
    "            runner = get_adapter(model)(convert_openscm_df_to_parameter_set(MAGICCData(sdf.copy())))\n",
    "            runner.initialize()\n",
    "#             parameter_set_scenario = \n",
    "#             runner.setup_scenario(parameter_set_scenario)\n",
    "            for config in configurations:\n",
    "                # temporary cheat\n",
    "#                 parameter_set_config = convert_dict_to_parameter_set(config) if config is not None else None\n",
    "#                 config_results = runner.run(parameter_set_config)\n",
    "                config_results = runner.run(**config)\n",
    "                config_results = MAGICCData(\n",
    "                    config_results.data.copy(), \n",
    "                    model=sdf[\"model\"].iloc[0], \n",
    "                    scenario=scenario, \n",
    "                )\n",
    "                # temporary cheat\n",
    "#                 results.append(convert_parameter_set_to_openscmdf(config_results))\n",
    "                try:\n",
    "                    results.append(config_results)\n",
    "                except UnboundLocalError:\n",
    "                    results = config_results\n",
    "                # TODO: get parameters out here too\n",
    "            \n",
    "    return results"
   ]
  },
  {
   "cell_type": "code",
   "execution_count": 13,
   "metadata": {},
   "outputs": [
    {
     "name": "stdout",
     "output_type": "stream",
     "text": [
      "running MAGICC6\n",
      "\n",
      "running RCP26\n"
     ]
    },
    {
     "name": "stderr",
     "output_type": "stream",
     "text": [
      "object of type <class 'float'> cannot be safely interpreted as an integer.\n"
     ]
    },
    {
     "data": {
      "text/html": [
       "<div>\n",
       "<style scoped>\n",
       "    .dataframe tbody tr th:only-of-type {\n",
       "        vertical-align: middle;\n",
       "    }\n",
       "\n",
       "    .dataframe tbody tr th {\n",
       "        vertical-align: top;\n",
       "    }\n",
       "\n",
       "    .dataframe thead th {\n",
       "        text-align: right;\n",
       "    }\n",
       "</style>\n",
       "<table border=\"1\" class=\"dataframe\">\n",
       "  <thead>\n",
       "    <tr style=\"text-align: right;\">\n",
       "      <th></th>\n",
       "      <th>model</th>\n",
       "      <th>scenario</th>\n",
       "      <th>region</th>\n",
       "      <th>variable</th>\n",
       "      <th>unit</th>\n",
       "      <th>time</th>\n",
       "      <th>todo</th>\n",
       "      <th>climate_model</th>\n",
       "      <th>value</th>\n",
       "    </tr>\n",
       "  </thead>\n",
       "  <tbody>\n",
       "    <tr>\n",
       "      <th>3360</th>\n",
       "      <td>IMAGE</td>\n",
       "      <td>RCP26</td>\n",
       "      <td>World</td>\n",
       "      <td>Atmospheric Concentrations|CH4</td>\n",
       "      <td>ppb</td>\n",
       "      <td>1765-07-12</td>\n",
       "      <td>N/A</td>\n",
       "      <td>MAGICC6</td>\n",
       "      <td>721.89411</td>\n",
       "    </tr>\n",
       "    <tr>\n",
       "      <th>3361</th>\n",
       "      <td>IMAGE</td>\n",
       "      <td>RCP26</td>\n",
       "      <td>World|Northern Hemisphere|Land</td>\n",
       "      <td>Atmospheric Concentrations|CH4</td>\n",
       "      <td>ppb</td>\n",
       "      <td>1765-07-12</td>\n",
       "      <td>N/A</td>\n",
       "      <td>MAGICC6</td>\n",
       "      <td>721.89411</td>\n",
       "    </tr>\n",
       "    <tr>\n",
       "      <th>3362</th>\n",
       "      <td>IMAGE</td>\n",
       "      <td>RCP26</td>\n",
       "      <td>World|Northern Hemisphere|Ocean</td>\n",
       "      <td>Atmospheric Concentrations|CH4</td>\n",
       "      <td>ppb</td>\n",
       "      <td>1765-07-12</td>\n",
       "      <td>N/A</td>\n",
       "      <td>MAGICC6</td>\n",
       "      <td>721.89411</td>\n",
       "    </tr>\n",
       "    <tr>\n",
       "      <th>3363</th>\n",
       "      <td>IMAGE</td>\n",
       "      <td>RCP26</td>\n",
       "      <td>World|Southern Hemisphere|Land</td>\n",
       "      <td>Atmospheric Concentrations|CH4</td>\n",
       "      <td>ppb</td>\n",
       "      <td>1765-07-12</td>\n",
       "      <td>N/A</td>\n",
       "      <td>MAGICC6</td>\n",
       "      <td>721.89411</td>\n",
       "    </tr>\n",
       "    <tr>\n",
       "      <th>3364</th>\n",
       "      <td>IMAGE</td>\n",
       "      <td>RCP26</td>\n",
       "      <td>World|Southern Hemisphere|Ocean</td>\n",
       "      <td>Atmospheric Concentrations|CH4</td>\n",
       "      <td>ppb</td>\n",
       "      <td>1765-07-12</td>\n",
       "      <td>N/A</td>\n",
       "      <td>MAGICC6</td>\n",
       "      <td>721.89411</td>\n",
       "    </tr>\n",
       "  </tbody>\n",
       "</table>\n",
       "</div>"
      ],
      "text/plain": [
       "      model scenario                           region  \\\n",
       "3360  IMAGE    RCP26                            World   \n",
       "3361  IMAGE    RCP26   World|Northern Hemisphere|Land   \n",
       "3362  IMAGE    RCP26  World|Northern Hemisphere|Ocean   \n",
       "3363  IMAGE    RCP26   World|Southern Hemisphere|Land   \n",
       "3364  IMAGE    RCP26  World|Southern Hemisphere|Ocean   \n",
       "\n",
       "                            variable unit       time todo climate_model  \\\n",
       "3360  Atmospheric Concentrations|CH4  ppb 1765-07-12  N/A       MAGICC6   \n",
       "3361  Atmospheric Concentrations|CH4  ppb 1765-07-12  N/A       MAGICC6   \n",
       "3362  Atmospheric Concentrations|CH4  ppb 1765-07-12  N/A       MAGICC6   \n",
       "3363  Atmospheric Concentrations|CH4  ppb 1765-07-12  N/A       MAGICC6   \n",
       "3364  Atmospheric Concentrations|CH4  ppb 1765-07-12  N/A       MAGICC6   \n",
       "\n",
       "          value  \n",
       "3360  721.89411  \n",
       "3361  721.89411  \n",
       "3362  721.89411  \n",
       "3363  721.89411  \n",
       "3364  721.89411  "
      ]
     },
     "execution_count": 13,
     "metadata": {},
     "output_type": "execute_result"
    }
   ],
   "source": [
    "res = run(rcp26, {\"MAGICC6\": [{\"core_climatesensitivity\": 3.5}]})\n",
    "res.head()"
   ]
  },
  {
   "cell_type": "code",
   "execution_count": 14,
   "metadata": {},
   "outputs": [
    {
     "name": "stdout",
     "output_type": "stream",
     "text": [
      "running MAGICC6\n",
      "\n",
      "running RCP26\n"
     ]
    },
    {
     "name": "stderr",
     "output_type": "stream",
     "text": [
      "object of type <class 'float'> cannot be safely interpreted as an integer.\n"
     ]
    },
    {
     "name": "stdout",
     "output_type": "stream",
     "text": [
      "running RCP45\n"
     ]
    },
    {
     "name": "stderr",
     "output_type": "stream",
     "text": [
      "object of type <class 'float'> cannot be safely interpreted as an integer.\n"
     ]
    },
    {
     "name": "stdout",
     "output_type": "stream",
     "text": [
      "running RCP60\n"
     ]
    },
    {
     "name": "stderr",
     "output_type": "stream",
     "text": [
      "object of type <class 'float'> cannot be safely interpreted as an integer.\n"
     ]
    },
    {
     "name": "stdout",
     "output_type": "stream",
     "text": [
      "running RCP85\n"
     ]
    },
    {
     "name": "stderr",
     "output_type": "stream",
     "text": [
      "object of type <class 'float'> cannot be safely interpreted as an integer.\n"
     ]
    }
   ],
   "source": [
    "res = run(rcps, {\"MAGICC6\": [{\"core_climatesensitivity\": 3.5}]});"
   ]
  },
  {
   "cell_type": "code",
   "execution_count": 15,
   "metadata": {},
   "outputs": [
    {
     "data": {
      "image/png": "[encoded data removed]",
      "text/plain": [
       "<Figure size 432x288 with 1 Axes>"
      ]
     },
     "metadata": {
      "needs_background": "light"
     },
     "output_type": "display_data"
    }
   ],
   "source": [
    "res.filter(variable=\"Surface Temperature\", region=\"World\").line_plot(color=\"scenario\", x=\"time\");"
   ]
  },
  {
   "cell_type": "code",
   "execution_count": null,
   "metadata": {},
   "outputs": [],
   "source": []
  }
 ],
 "metadata": {
  "kernelspec": {
   "display_name": "Python 3",
   "language": "python",
   "name": "python3"
  },
  "language_info": {
   "codemirror_mode": {
    "name": "ipython",
    "version": 3
   },
   "file_extension": ".py",
   "mimetype": "text/x-python",
   "name": "python",
   "nbconvert_exporter": "python",
   "pygments_lexer": "ipython3",
   "version": "3.7.0"
  }
 },
 "nbformat": 4,
 "nbformat_minor": 2
}
