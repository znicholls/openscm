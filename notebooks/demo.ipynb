{
 "cells": [
  {
   "cell_type": "code",
   "execution_count": 1,
   "metadata": {},
   "outputs": [
    {
     "data": {
      "application/javascript": [
       "IPython.OutputArea.prototype._should_scroll = function(lines) { return false; }"
      ],
      "text/plain": [
       "<IPython.core.display.Javascript object>"
      ]
     },
     "metadata": {},
     "output_type": "display_data"
    }
   ],
   "source": [
    "from os.path import join\n",
    "from datetime import datetime\n",
    "\n",
    "import numpy as np\n",
    "import pandas as pd\n",
    "from pymagicc.io import MAGICCData\n",
    "\n",
    "from openscm.core import Core, ParameterSet\n",
    "from openscm.utils import convert_datetime_to_openscm_time\n",
    "from openscm.units import unit_registry\n",
    "from openscm.internal import Adapter\n",
    "from openscm.adapters import get_adapter, MAGICC6\n",
    "from openscm.highlevel import OpenSCMDataFrame"
   ]
  },
  {
   "cell_type": "code",
   "execution_count": 2,
   "metadata": {},
   "outputs": [],
   "source": [
    "import matplotlib\n",
    "%matplotlib inline"
   ]
  },
  {
   "cell_type": "code",
   "execution_count": 3,
   "metadata": {},
   "outputs": [],
   "source": [
    "DATA_PATH = join(\"..\", \"data\", \"rcps\")"
   ]
  },
  {
   "cell_type": "code",
   "execution_count": 4,
   "metadata": {},
   "outputs": [
    {
     "data": {
      "text/html": [
       "<div>\n",
       "<style scoped>\n",
       "    .dataframe tbody tr th:only-of-type {\n",
       "        vertical-align: middle;\n",
       "    }\n",
       "\n",
       "    .dataframe tbody tr th {\n",
       "        vertical-align: top;\n",
       "    }\n",
       "\n",
       "    .dataframe thead th {\n",
       "        text-align: right;\n",
       "    }\n",
       "</style>\n",
       "<table border=\"1\" class=\"dataframe\">\n",
       "  <thead>\n",
       "    <tr style=\"text-align: right;\">\n",
       "      <th></th>\n",
       "      <th>variable</th>\n",
       "      <th>todo</th>\n",
       "      <th>unit</th>\n",
       "      <th>region</th>\n",
       "      <th>climate_model</th>\n",
       "      <th>model</th>\n",
       "      <th>scenario</th>\n",
       "      <th>time</th>\n",
       "      <th>value</th>\n",
       "    </tr>\n",
       "  </thead>\n",
       "  <tbody>\n",
       "    <tr>\n",
       "      <th>5888</th>\n",
       "      <td>Emissions|BC</td>\n",
       "      <td>SET</td>\n",
       "      <td>Mt BC / yr</td>\n",
       "      <td>World</td>\n",
       "      <td>unspecified</td>\n",
       "      <td>IMAGE</td>\n",
       "      <td>RCP26</td>\n",
       "      <td>1765-07-12 00:00:00</td>\n",
       "      <td>0.000000</td>\n",
       "    </tr>\n",
       "    <tr>\n",
       "      <th>5889</th>\n",
       "      <td>Emissions|BC</td>\n",
       "      <td>SET</td>\n",
       "      <td>Mt BC / yr</td>\n",
       "      <td>World</td>\n",
       "      <td>unspecified</td>\n",
       "      <td>IMAGE</td>\n",
       "      <td>RCP26</td>\n",
       "      <td>1766-07-12 00:00:00</td>\n",
       "      <td>0.106998</td>\n",
       "    </tr>\n",
       "    <tr>\n",
       "      <th>5890</th>\n",
       "      <td>Emissions|BC</td>\n",
       "      <td>SET</td>\n",
       "      <td>Mt BC / yr</td>\n",
       "      <td>World</td>\n",
       "      <td>unspecified</td>\n",
       "      <td>IMAGE</td>\n",
       "      <td>RCP26</td>\n",
       "      <td>1767-07-12 00:00:00</td>\n",
       "      <td>0.133383</td>\n",
       "    </tr>\n",
       "    <tr>\n",
       "      <th>5891</th>\n",
       "      <td>Emissions|BC</td>\n",
       "      <td>SET</td>\n",
       "      <td>Mt BC / yr</td>\n",
       "      <td>World</td>\n",
       "      <td>unspecified</td>\n",
       "      <td>IMAGE</td>\n",
       "      <td>RCP26</td>\n",
       "      <td>1768-07-12 00:00:00</td>\n",
       "      <td>0.159847</td>\n",
       "    </tr>\n",
       "    <tr>\n",
       "      <th>5892</th>\n",
       "      <td>Emissions|BC</td>\n",
       "      <td>SET</td>\n",
       "      <td>Mt BC / yr</td>\n",
       "      <td>World</td>\n",
       "      <td>unspecified</td>\n",
       "      <td>IMAGE</td>\n",
       "      <td>RCP26</td>\n",
       "      <td>1769-07-12 00:00:00</td>\n",
       "      <td>0.186393</td>\n",
       "    </tr>\n",
       "  </tbody>\n",
       "</table>\n",
       "</div>"
      ],
      "text/plain": [
       "          variable todo        unit region climate_model  model scenario  \\\n",
       "5888  Emissions|BC  SET  Mt BC / yr  World   unspecified  IMAGE    RCP26   \n",
       "5889  Emissions|BC  SET  Mt BC / yr  World   unspecified  IMAGE    RCP26   \n",
       "5890  Emissions|BC  SET  Mt BC / yr  World   unspecified  IMAGE    RCP26   \n",
       "5891  Emissions|BC  SET  Mt BC / yr  World   unspecified  IMAGE    RCP26   \n",
       "5892  Emissions|BC  SET  Mt BC / yr  World   unspecified  IMAGE    RCP26   \n",
       "\n",
       "                     time     value  \n",
       "5888  1765-07-12 00:00:00  0.000000  \n",
       "5889  1766-07-12 00:00:00  0.106998  \n",
       "5890  1767-07-12 00:00:00  0.133383  \n",
       "5891  1768-07-12 00:00:00  0.159847  \n",
       "5892  1769-07-12 00:00:00  0.186393  "
      ]
     },
     "execution_count": 4,
     "metadata": {},
     "output_type": "execute_result"
    }
   ],
   "source": [
    "def load_rcp_data(filepath, **kwargs):\n",
    "    rcp = MAGICCData(\n",
    "        filepath,\n",
    "        **kwargs\n",
    "    )\n",
    "    \n",
    "    return OpenSCMDataFrame(rcp.data.copy())\n",
    "\n",
    "rcp26 = load_rcp_data(\n",
    "    join(DATA_PATH, \"RCP26_EMISSIONS.DAT\"), \n",
    "    model=\"IMAGE\",\n",
    "    scenario=\"RCP26\",\n",
    ")\n",
    "rcp26.head()"
   ]
  },
  {
   "cell_type": "code",
   "execution_count": 5,
   "metadata": {},
   "outputs": [],
   "source": [
    "rcps = OpenSCMDataFrame(rcp26.data.copy())\n",
    "rcp_dict = {\n",
    "    \"MiniCAM\": \"RCP45\",\n",
    "    \"AIM\": \"RCP60\",\n",
    "    \"MESSAGE\": \"RCP85\",\n",
    "}\n",
    "for model, scenario in rcp_dict.items():\n",
    "    rcpdata = load_rcp_data(\n",
    "        join(DATA_PATH, \"{}_EMISSIONS.DAT\".format(scenario)),\n",
    "        model=model,\n",
    "        scenario=scenario,\n",
    "    )\n",
    "    rcps.append(rcpdata, inplace=True)"
   ]
  },
  {
   "cell_type": "code",
   "execution_count": 6,
   "metadata": {},
   "outputs": [
    {
     "data": {
      "text/plain": [
       "0    RCP26\n",
       "1    RCP45\n",
       "2    RCP60\n",
       "3    RCP85\n",
       "Name: scenario, dtype: object"
      ]
     },
     "execution_count": 6,
     "metadata": {},
     "output_type": "execute_result"
    }
   ],
   "source": [
    "rcps.scenarios()"
   ]
  },
  {
   "cell_type": "code",
   "execution_count": 7,
   "metadata": {},
   "outputs": [],
   "source": [
    "# TODO: put something like this in gap between high and low level interfaces\n",
    "def convert_openscm_df_to_parameter_set(openscm_df):\n",
    "    # make internal\n",
    "    ONE_YEAR_INT = int(1*unit_registry(\"yr\").to(\"s\").magnitude)\n",
    "    \n",
    "    parameter_set = ParameterSet()\n",
    "    for (variable, region), df in openscm_df.data.groupby([\"variable\", \"region\"]):\n",
    "        df = df.sort_values(\"time\")\n",
    "        variable_openscm = tuple(variable.split(\"|\"))  # TODO: remove hard coding\n",
    "        region_openscm = tuple(region.split(\"|\"))\n",
    "        # TODO: discuss why this is and make handling better\n",
    "        assert region_openscm[0] == \"World\"\n",
    "        region_openscm = region_openscm[1:] if len(region_openscm) > 1 else ()\n",
    "        unit = df.unit.unique()\n",
    "        assert len(unit) == 1, \"emissions timeseries should all be in one unit\"  # TODO: remove this restriction\n",
    "        unit = unit[0]\n",
    "        syr = df.time.min().year\n",
    "        assert syr == 1765, \"have not considered cases other than the RCPs yet\"  # TODO: remove this restriction\n",
    "        eyr = df.time.max().year\n",
    "        assert eyr == 2500, \"have not considered cases other than the RCPs yet\"  # TODO: remove this restriction\n",
    "        assert len(df) == 736, \"have not considered cases other than the RCPs read in by pymagicc yet\"  # TODO: remove this restriction\n",
    "        tstep = ONE_YEAR_INT  # having passed all above, can safely assume this [TODO: remove this assumption]\n",
    "\n",
    "        emms_view = parameter_set.get_writable_timeseries_view(\n",
    "            variable_openscm,\n",
    "            region_openscm,\n",
    "            unit,\n",
    "            convert_datetime_to_openscm_time(datetime(syr, 1, 1, 0, 0, 0)),\n",
    "            tstep\n",
    "        )\n",
    "        emms_view.set_series(df[\"value\"].values)\n",
    "\n",
    "    return parameter_set"
   ]
  },
  {
   "cell_type": "code",
   "execution_count": 8,
   "metadata": {},
   "outputs": [],
   "source": [
    "from datetime import datetime, timedelta\n",
    "import numpy as np\n",
    "\n",
    "def convert_parameter_set_to_openscmdf(\n",
    "    parameter_set, \n",
    "    climate_model,\n",
    "    scenario,\n",
    "    model=\"unspecified\",  \n",
    "):\n",
    "    for key, value in parameter_set._world._parameters.items():\n",
    "        values = value._data\n",
    "        if isinstance(values, np.ndarray):\n",
    "            time_length = len(values)\n",
    "            time = [\n",
    "                parameter_set.start_time + parameter_set.period_length * i\n",
    "                for i in range(len(values))\n",
    "            ]\n",
    "            time = [\n",
    "                datetime(1970, 1, 1, 0, 0, 0) + timedelta(seconds=j)\n",
    "                for j in time\n",
    "            ]\n",
    "            break\n",
    "                \n",
    "    metadata = {\n",
    "        \"climate_model\": [climate_model] * len(time),\n",
    "        \"scenario\": [scenario] * len(time),\n",
    "        \"model\": [model] * len(time),\n",
    "    }\n",
    "\n",
    "    dataframes = []\n",
    "    for key, value in parameter_set._world._parameters.items():\n",
    "        variable = value.info.name\n",
    "        region = value.info.region if value.info.region else \"World\"  # TODO: fix this\n",
    "        unit = value.info.unit\n",
    "        tdf = {\n",
    "            **metadata, \n",
    "            \"variable\": [variable] * len(time),\n",
    "            \"unit\": [unit] * len(time),\n",
    "            \"region\": [region] * len(time),\n",
    "            \"time\": time,\n",
    "        }\n",
    "        values = value._data\n",
    "        if isinstance(values, float):\n",
    "            tdf[\"value\"] = [values] * len(time)\n",
    "        else:\n",
    "            assert len(values) == time_length\n",
    "            tdf[\"value\"] = values\n",
    "        \n",
    "        dataframes.append(pd.DataFrame(tdf))\n",
    "        \n",
    "    return OpenSCMDataFrame(pd.concat(dataframes))"
   ]
  },
  {
   "cell_type": "code",
   "execution_count": 9,
   "metadata": {},
   "outputs": [],
   "source": [
    "def run(drivers, model_configurations):\n",
    "    assert isinstance(model_configurations, dict), \"model_configurations must be a dictionary\"\n",
    "    for climate_model, configurations in model_configurations.items():\n",
    "        print(\"running {}\\n\".format(climate_model))\n",
    "        runner = get_adapter(climate_model)()\n",
    "        runner.initialize()\n",
    "        for (scenario, model), sdf in drivers.data.groupby([\"scenario\", \"model\"]):\n",
    "            print(\"running {}\".format(scenario))\n",
    "            parameter_set_scenario = convert_openscm_df_to_parameter_set(\n",
    "                OpenSCMDataFrame(sdf.copy())\n",
    "            )\n",
    "            runner.setup_scenario(\n",
    "                parameters=parameter_set_scenario,\n",
    "                start_time=convert_datetime_to_openscm_time(sdf[\"time\"].min()),\n",
    "            )\n",
    "            for config in configurations:\n",
    "                # not sure how best how to handle pushing/pulling parameters here yet...\n",
    "#                 parameter_set_config = convert_dict_to_parameter_set(config)\n",
    "#                 config_results = runner.run(parameter_set_config)\n",
    "                print(\"running config\")\n",
    "                config_results = runner.run(**config)\n",
    "                \n",
    "                config_results = convert_parameter_set_to_openscmdf(\n",
    "                    config_results,\n",
    "                    climate_model, \n",
    "                    scenario, \n",
    "                    model=model,\n",
    "                )\n",
    "                try:\n",
    "                    results.append(config_results, inplace=True)\n",
    "                except NameError:\n",
    "                    results = config_results\n",
    "            \n",
    "    return results"
   ]
  },
  {
   "cell_type": "code",
   "execution_count": 11,
   "metadata": {},
   "outputs": [
    {
     "name": "stdout",
     "output_type": "stream",
     "text": [
      "running PH99\n",
      "\n",
      "running RCP26\n",
      "running config\n",
      "running RCP45\n",
      "running config\n",
      "running RCP60\n",
      "running config\n",
      "running RCP85\n",
      "running config\n"
     ]
    }
   ],
   "source": [
    "res = run(\n",
    "    rcps, \n",
    "    {\n",
    "        \"PH99\": [\n",
    "            {\"beta\": 0.8 * unit_registry(\"ppm/GtC\")},\n",
    "            # need to sort out metadata handling before this will behave\n",
    "#             {\"beta\": 0.3 * unit_registry(\"ppm/GtC\")},\n",
    "        ]\n",
    "    },\n",
    ");"
   ]
  },
  {
   "cell_type": "code",
   "execution_count": 12,
   "metadata": {},
   "outputs": [
    {
     "data": {
      "image/png": "[encoded data removed]",
      "text/plain": [
       "<Figure size 432x288 with 1 Axes>"
      ]
     },
     "metadata": {
      "needs_background": "light"
     },
     "output_type": "display_data"
    }
   ],
   "source": [
    "res.filter(\n",
    "    variable=\"Surface Temperature\",\n",
    "    region=\"World\",\n",
    ").line_plot(x=\"time\");"
   ]
  }
 ],
 "metadata": {
  "kernelspec": {
   "display_name": "Python 3",
   "language": "python",
   "name": "python3"
  },
  "language_info": {
   "codemirror_mode": {
    "name": "ipython",
    "version": 3
   },
   "file_extension": ".py",
   "mimetype": "text/x-python",
   "name": "python",
   "nbconvert_exporter": "python",
   "pygments_lexer": "ipython3",
   "version": "3.7.0"
  }
 },
 "nbformat": 4,
 "nbformat_minor": 2
}
