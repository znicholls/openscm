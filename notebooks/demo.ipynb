{
 "cells": [
  {
   "cell_type": "code",
   "execution_count": 1,
   "metadata": {},
   "outputs": [
    {
     "data": {
      "application/javascript": [
       "IPython.OutputArea.prototype._should_scroll = function(lines) { return false; }"
      ],
      "text/plain": [
       "<IPython.core.display.Javascript object>"
      ]
     },
     "metadata": {},
     "output_type": "display_data"
    }
   ],
   "source": [
    "from os.path import join\n",
    "\n",
    "from openscm.units import unit_registry\n",
    "from openscm.highlevel import OpenSCMDataFrame, run"
   ]
  },
  {
   "cell_type": "code",
   "execution_count": 2,
   "metadata": {},
   "outputs": [],
   "source": [
    "import matplotlib\n",
    "%matplotlib inline"
   ]
  },
  {
   "cell_type": "code",
   "execution_count": 3,
   "metadata": {},
   "outputs": [],
   "source": [
    "DATA_PATH = join(\"..\", \"data\", \"rcps\")"
   ]
  },
  {
   "cell_type": "code",
   "execution_count": 4,
   "metadata": {},
   "outputs": [
    {
     "name": "stderr",
     "output_type": "stream",
     "text": [
      "INFO:root:Reading `../data/rcps/rcp26_emissions.csv`\n"
     ]
    },
    {
     "data": {
      "text/html": [
       "<div>\n",
       "<style scoped>\n",
       "    .dataframe tbody tr th:only-of-type {\n",
       "        vertical-align: middle;\n",
       "    }\n",
       "\n",
       "    .dataframe tbody tr th {\n",
       "        vertical-align: top;\n",
       "    }\n",
       "\n",
       "    .dataframe thead th {\n",
       "        text-align: right;\n",
       "    }\n",
       "</style>\n",
       "<table border=\"1\" class=\"dataframe\">\n",
       "  <thead>\n",
       "    <tr style=\"text-align: right;\">\n",
       "      <th></th>\n",
       "      <th>model</th>\n",
       "      <th>scenario</th>\n",
       "      <th>region</th>\n",
       "      <th>variable</th>\n",
       "      <th>unit</th>\n",
       "      <th>climate_model</th>\n",
       "      <th>todo</th>\n",
       "      <th>time</th>\n",
       "      <th>value</th>\n",
       "    </tr>\n",
       "  </thead>\n",
       "  <tbody>\n",
       "    <tr>\n",
       "      <th>0</th>\n",
       "      <td>IMAGE</td>\n",
       "      <td>RCP26</td>\n",
       "      <td>World</td>\n",
       "      <td>Emissions|BC</td>\n",
       "      <td>Mt BC / yr</td>\n",
       "      <td>unspecified</td>\n",
       "      <td>SET</td>\n",
       "      <td>1765-07-12 00:00:00</td>\n",
       "      <td>0.000000</td>\n",
       "    </tr>\n",
       "    <tr>\n",
       "      <th>39</th>\n",
       "      <td>IMAGE</td>\n",
       "      <td>RCP26</td>\n",
       "      <td>World</td>\n",
       "      <td>Emissions|BC</td>\n",
       "      <td>Mt BC / yr</td>\n",
       "      <td>unspecified</td>\n",
       "      <td>SET</td>\n",
       "      <td>1766-07-12 00:00:00</td>\n",
       "      <td>0.106998</td>\n",
       "    </tr>\n",
       "    <tr>\n",
       "      <th>78</th>\n",
       "      <td>IMAGE</td>\n",
       "      <td>RCP26</td>\n",
       "      <td>World</td>\n",
       "      <td>Emissions|BC</td>\n",
       "      <td>Mt BC / yr</td>\n",
       "      <td>unspecified</td>\n",
       "      <td>SET</td>\n",
       "      <td>1767-07-12 00:00:00</td>\n",
       "      <td>0.133383</td>\n",
       "    </tr>\n",
       "    <tr>\n",
       "      <th>117</th>\n",
       "      <td>IMAGE</td>\n",
       "      <td>RCP26</td>\n",
       "      <td>World</td>\n",
       "      <td>Emissions|BC</td>\n",
       "      <td>Mt BC / yr</td>\n",
       "      <td>unspecified</td>\n",
       "      <td>SET</td>\n",
       "      <td>1768-07-12 00:00:00</td>\n",
       "      <td>0.159847</td>\n",
       "    </tr>\n",
       "    <tr>\n",
       "      <th>156</th>\n",
       "      <td>IMAGE</td>\n",
       "      <td>RCP26</td>\n",
       "      <td>World</td>\n",
       "      <td>Emissions|BC</td>\n",
       "      <td>Mt BC / yr</td>\n",
       "      <td>unspecified</td>\n",
       "      <td>SET</td>\n",
       "      <td>1769-07-12 00:00:00</td>\n",
       "      <td>0.186393</td>\n",
       "    </tr>\n",
       "  </tbody>\n",
       "</table>\n",
       "</div>"
      ],
      "text/plain": [
       "     model scenario region      variable        unit climate_model todo  \\\n",
       "0    IMAGE    RCP26  World  Emissions|BC  Mt BC / yr   unspecified  SET   \n",
       "39   IMAGE    RCP26  World  Emissions|BC  Mt BC / yr   unspecified  SET   \n",
       "78   IMAGE    RCP26  World  Emissions|BC  Mt BC / yr   unspecified  SET   \n",
       "117  IMAGE    RCP26  World  Emissions|BC  Mt BC / yr   unspecified  SET   \n",
       "156  IMAGE    RCP26  World  Emissions|BC  Mt BC / yr   unspecified  SET   \n",
       "\n",
       "                    time     value  \n",
       "0    1765-07-12 00:00:00  0.000000  \n",
       "39   1766-07-12 00:00:00  0.106998  \n",
       "78   1767-07-12 00:00:00  0.133383  \n",
       "117  1768-07-12 00:00:00  0.159847  \n",
       "156  1769-07-12 00:00:00  0.186393  "
      ]
     },
     "execution_count": 4,
     "metadata": {},
     "output_type": "execute_result"
    }
   ],
   "source": [
    "rcp26 = OpenSCMDataFrame(join(DATA_PATH, \"rcp26_emissions.csv\"))\n",
    "rcp26.head()"
   ]
  },
  {
   "cell_type": "code",
   "execution_count": 5,
   "metadata": {},
   "outputs": [
    {
     "name": "stderr",
     "output_type": "stream",
     "text": [
      "INFO:root:Reading `../data/rcps/rcp45_emissions.csv`\n",
      "INFO:root:Reading `../data/rcps/rcp60_emissions.csv`\n",
      "INFO:root:Reading `../data/rcps/rcp85_emissions.csv`\n"
     ]
    }
   ],
   "source": [
    "rcps = OpenSCMDataFrame(rcp26.data.copy())  # TODO: add copy method to IamDataFrame\n",
    "for rcp in [\"rcp45\", \"rcp60\", \"rcp85\"]:\n",
    "    rcps.append(\n",
    "        join(DATA_PATH, \"{}_emissions.csv\".format(rcp)),\n",
    "        inplace=True\n",
    "    )"
   ]
  },
  {
   "cell_type": "code",
   "execution_count": 6,
   "metadata": {},
   "outputs": [
    {
     "data": {
      "text/plain": [
       "0    RCP26\n",
       "1    RCP45\n",
       "2    RCP60\n",
       "3    RCP85\n",
       "Name: scenario, dtype: object"
      ]
     },
     "execution_count": 6,
     "metadata": {},
     "output_type": "execute_result"
    }
   ],
   "source": [
    "rcps.scenarios()"
   ]
  },
  {
   "cell_type": "code",
   "execution_count": 7,
   "metadata": {},
   "outputs": [
    {
     "name": "stdout",
     "output_type": "stream",
     "text": [
      "running PH99\n",
      "\n",
      "running RCP26\n"
     ]
    },
    {
     "name": "stderr",
     "output_type": "stream",
     "text": [
      "| |                              #                    | 1 Elapsed Time: 0:00:07\n"
     ]
    },
    {
     "name": "stdout",
     "output_type": "stream",
     "text": [
      "running RCP45\n"
     ]
    },
    {
     "name": "stderr",
     "output_type": "stream",
     "text": [
      "| |                               #                   | 1 Elapsed Time: 0:00:07\n"
     ]
    },
    {
     "name": "stdout",
     "output_type": "stream",
     "text": [
      "running RCP60\n"
     ]
    },
    {
     "name": "stderr",
     "output_type": "stream",
     "text": [
      "| |                             #                     | 1 Elapsed Time: 0:00:07\n"
     ]
    },
    {
     "name": "stdout",
     "output_type": "stream",
     "text": [
      "running RCP85\n"
     ]
    },
    {
     "name": "stderr",
     "output_type": "stream",
     "text": [
      "| |                              #                    | 1 Elapsed Time: 0:00:07\n"
     ]
    }
   ],
   "source": [
    "res = run(\n",
    "    rcps, \n",
    "    {\n",
    "        \"PH99\": [\n",
    "            {\"beta\": (\"World\", 0.8 * unit_registry(\"ppm/GtC\"))},\n",
    "            {\"beta\": (\"World\", 0.3 * unit_registry(\"ppm/GtC\"))},\n",
    "        ],\n",
    "#         \"MAGICC6\": [\n",
    "#             {\"core_climatesensitivity\": (\"World\", 2.0)},\n",
    "#             {\"core_climatesensitivity\": (\"World\", 3.0)},\n",
    "#         ]\n",
    "    },\n",
    ");"
   ]
  },
  {
   "cell_type": "code",
   "execution_count": 8,
   "metadata": {},
   "outputs": [
    {
     "data": {
      "text/html": [
       "<div>\n",
       "<style scoped>\n",
       "    .dataframe tbody tr th:only-of-type {\n",
       "        vertical-align: middle;\n",
       "    }\n",
       "\n",
       "    .dataframe tbody tr th {\n",
       "        vertical-align: top;\n",
       "    }\n",
       "\n",
       "    .dataframe thead th {\n",
       "        text-align: right;\n",
       "    }\n",
       "</style>\n",
       "<table border=\"1\" class=\"dataframe\">\n",
       "  <thead>\n",
       "    <tr style=\"text-align: right;\">\n",
       "      <th></th>\n",
       "      <th>model</th>\n",
       "      <th>scenario</th>\n",
       "      <th>region</th>\n",
       "      <th>variable</th>\n",
       "      <th>unit</th>\n",
       "      <th>time</th>\n",
       "      <th>climate_model</th>\n",
       "      <th>alpha (1 / a)</th>\n",
       "      <th>c1 (ppm)</th>\n",
       "      <th>sigma (1 / a)</th>\n",
       "      <th>beta (ppm / gigatc)</th>\n",
       "      <th>t1 (degc)</th>\n",
       "      <th>b (ppm / a / gigatc)</th>\n",
       "      <th>mu (delta_degc / a)</th>\n",
       "      <th>value</th>\n",
       "    </tr>\n",
       "  </thead>\n",
       "  <tbody>\n",
       "    <tr>\n",
       "      <th>0</th>\n",
       "      <td>IMAGE</td>\n",
       "      <td>RCP26</td>\n",
       "      <td>World</td>\n",
       "      <td>Atmospheric Concentrations|CO2</td>\n",
       "      <td>ppm</td>\n",
       "      <td>1765-07-12 00:00:00</td>\n",
       "      <td>PH99</td>\n",
       "      <td>0.017</td>\n",
       "      <td>290.0</td>\n",
       "      <td>0.0215</td>\n",
       "      <td>0.8</td>\n",
       "      <td>14.6</td>\n",
       "      <td>0.00151</td>\n",
       "      <td>0.087</td>\n",
       "      <td>290.000000</td>\n",
       "    </tr>\n",
       "    <tr>\n",
       "      <th>1</th>\n",
       "      <td>IMAGE</td>\n",
       "      <td>RCP26</td>\n",
       "      <td>World</td>\n",
       "      <td>Atmospheric Concentrations|CO2</td>\n",
       "      <td>ppm</td>\n",
       "      <td>1766-07-12 05:48:45</td>\n",
       "      <td>PH99</td>\n",
       "      <td>0.017</td>\n",
       "      <td>290.0</td>\n",
       "      <td>0.0215</td>\n",
       "      <td>0.8</td>\n",
       "      <td>14.6</td>\n",
       "      <td>0.00151</td>\n",
       "      <td>0.087</td>\n",
       "      <td>290.004645</td>\n",
       "    </tr>\n",
       "    <tr>\n",
       "      <th>2</th>\n",
       "      <td>IMAGE</td>\n",
       "      <td>RCP26</td>\n",
       "      <td>World</td>\n",
       "      <td>Atmospheric Concentrations|CO2</td>\n",
       "      <td>ppm</td>\n",
       "      <td>1767-07-12 11:37:30</td>\n",
       "      <td>PH99</td>\n",
       "      <td>0.017</td>\n",
       "      <td>290.0</td>\n",
       "      <td>0.0215</td>\n",
       "      <td>0.8</td>\n",
       "      <td>14.6</td>\n",
       "      <td>0.00151</td>\n",
       "      <td>0.087</td>\n",
       "      <td>290.013470</td>\n",
       "    </tr>\n",
       "    <tr>\n",
       "      <th>3</th>\n",
       "      <td>IMAGE</td>\n",
       "      <td>RCP26</td>\n",
       "      <td>World</td>\n",
       "      <td>Atmospheric Concentrations|CO2</td>\n",
       "      <td>ppm</td>\n",
       "      <td>1768-07-11 17:26:15</td>\n",
       "      <td>PH99</td>\n",
       "      <td>0.017</td>\n",
       "      <td>290.0</td>\n",
       "      <td>0.0215</td>\n",
       "      <td>0.8</td>\n",
       "      <td>14.6</td>\n",
       "      <td>0.00151</td>\n",
       "      <td>0.087</td>\n",
       "      <td>290.026392</td>\n",
       "    </tr>\n",
       "    <tr>\n",
       "      <th>4</th>\n",
       "      <td>IMAGE</td>\n",
       "      <td>RCP26</td>\n",
       "      <td>World</td>\n",
       "      <td>Atmospheric Concentrations|CO2</td>\n",
       "      <td>ppm</td>\n",
       "      <td>1769-07-11 23:15:00</td>\n",
       "      <td>PH99</td>\n",
       "      <td>0.017</td>\n",
       "      <td>290.0</td>\n",
       "      <td>0.0215</td>\n",
       "      <td>0.8</td>\n",
       "      <td>14.6</td>\n",
       "      <td>0.00151</td>\n",
       "      <td>0.087</td>\n",
       "      <td>290.043332</td>\n",
       "    </tr>\n",
       "  </tbody>\n",
       "</table>\n",
       "</div>"
      ],
      "text/plain": [
       "   model scenario region                        variable unit  \\\n",
       "0  IMAGE    RCP26  World  Atmospheric Concentrations|CO2  ppm   \n",
       "1  IMAGE    RCP26  World  Atmospheric Concentrations|CO2  ppm   \n",
       "2  IMAGE    RCP26  World  Atmospheric Concentrations|CO2  ppm   \n",
       "3  IMAGE    RCP26  World  Atmospheric Concentrations|CO2  ppm   \n",
       "4  IMAGE    RCP26  World  Atmospheric Concentrations|CO2  ppm   \n",
       "\n",
       "                  time climate_model  alpha (1 / a)  c1 (ppm)  sigma (1 / a)  \\\n",
       "0  1765-07-12 00:00:00          PH99          0.017     290.0         0.0215   \n",
       "1  1766-07-12 05:48:45          PH99          0.017     290.0         0.0215   \n",
       "2  1767-07-12 11:37:30          PH99          0.017     290.0         0.0215   \n",
       "3  1768-07-11 17:26:15          PH99          0.017     290.0         0.0215   \n",
       "4  1769-07-11 23:15:00          PH99          0.017     290.0         0.0215   \n",
       "\n",
       "   beta (ppm / gigatc)  t1 (degc)  b (ppm / a / gigatc)  mu (delta_degc / a)  \\\n",
       "0                  0.8       14.6               0.00151                0.087   \n",
       "1                  0.8       14.6               0.00151                0.087   \n",
       "2                  0.8       14.6               0.00151                0.087   \n",
       "3                  0.8       14.6               0.00151                0.087   \n",
       "4                  0.8       14.6               0.00151                0.087   \n",
       "\n",
       "        value  \n",
       "0  290.000000  \n",
       "1  290.004645  \n",
       "2  290.013470  \n",
       "3  290.026392  \n",
       "4  290.043332  "
      ]
     },
     "execution_count": 8,
     "metadata": {},
     "output_type": "execute_result"
    }
   ],
   "source": [
    "res.head()"
   ]
  },
  {
   "cell_type": "code",
   "execution_count": 9,
   "metadata": {},
   "outputs": [
    {
     "data": {
      "image/png": "[encoded data removed]",
      "text/plain": [
       "<Figure size 432x288 with 1 Axes>"
      ]
     },
     "metadata": {
      "needs_background": "light"
     },
     "output_type": "display_data"
    }
   ],
   "source": [
    "res.filter(\n",
    "    variable=\"Surface Temperature\",\n",
    "    region=\"World\",\n",
    ").line_plot(x=\"time\", color=\"scenario\");"
   ]
  },
  {
   "cell_type": "code",
   "execution_count": 10,
   "metadata": {},
   "outputs": [
    {
     "data": {
      "text/html": [
       "<div>\n",
       "<style scoped>\n",
       "    .dataframe tbody tr th:only-of-type {\n",
       "        vertical-align: middle;\n",
       "    }\n",
       "\n",
       "    .dataframe tbody tr th {\n",
       "        vertical-align: top;\n",
       "    }\n",
       "\n",
       "    .dataframe thead th {\n",
       "        text-align: right;\n",
       "    }\n",
       "</style>\n",
       "<table border=\"1\" class=\"dataframe\">\n",
       "  <thead>\n",
       "    <tr style=\"text-align: right;\">\n",
       "      <th></th>\n",
       "      <th></th>\n",
       "      <th>exclude</th>\n",
       "    </tr>\n",
       "    <tr>\n",
       "      <th>model</th>\n",
       "      <th>scenario</th>\n",
       "      <th></th>\n",
       "    </tr>\n",
       "  </thead>\n",
       "  <tbody>\n",
       "    <tr>\n",
       "      <th>AIM</th>\n",
       "      <th>RCP60</th>\n",
       "      <td>False</td>\n",
       "    </tr>\n",
       "    <tr>\n",
       "      <th>IMAGE</th>\n",
       "      <th>RCP26</th>\n",
       "      <td>False</td>\n",
       "    </tr>\n",
       "    <tr>\n",
       "      <th>MESSAGE</th>\n",
       "      <th>RCP85</th>\n",
       "      <td>False</td>\n",
       "    </tr>\n",
       "    <tr>\n",
       "      <th>MiniCAM</th>\n",
       "      <th>RCP45</th>\n",
       "      <td>False</td>\n",
       "    </tr>\n",
       "  </tbody>\n",
       "</table>\n",
       "</div>"
      ],
      "text/plain": [
       "                  exclude\n",
       "model   scenario         \n",
       "AIM     RCP60       False\n",
       "IMAGE   RCP26       False\n",
       "MESSAGE RCP85       False\n",
       "MiniCAM RCP45       False"
      ]
     },
     "execution_count": 10,
     "metadata": {},
     "output_type": "execute_result"
    }
   ],
   "source": [
    "res.meta"
   ]
  }
 ],
 "metadata": {
  "kernelspec": {
   "display_name": "Python 3",
   "language": "python",
   "name": "python3"
  },
  "language_info": {
   "codemirror_mode": {
    "name": "ipython",
    "version": 3
   },
   "file_extension": ".py",
   "mimetype": "text/x-python",
   "name": "python",
   "nbconvert_exporter": "python",
   "pygments_lexer": "ipython3",
   "version": "3.7.0"
  }
 },
 "nbformat": 4,
 "nbformat_minor": 2
}
